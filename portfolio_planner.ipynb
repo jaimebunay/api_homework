{
 "cells": [
  {
   "cell_type": "code",
   "execution_count": 1,
   "metadata": {},
   "outputs": [],
   "source": [
    "import numpy as np\n",
    "import pandas as pd\n",
    "from datetime import datetime, timedelta\n",
    "import matplotlib.pyplot as plt\n",
    "%matplotlib inline"
   ]
  },
  {
   "cell_type": "code",
   "execution_count": 2,
   "metadata": {},
   "outputs": [],
   "source": [
    "np.random.seed(42)"
   ]
  },
  {
   "cell_type": "markdown",
   "metadata": {},
   "source": [
    "# Portfolio Planner\n",
    "\n",
    "In this activity, you will use the iexfinance api to grab historical data for a 60/40 portfolio using `SPY` to represent the stock portion and `AGG` to represent the bonds."
   ]
  },
  {
   "cell_type": "code",
   "execution_count": 3,
   "metadata": {},
   "outputs": [],
   "source": [
    "from iexfinance.stocks import get_historical_data\n",
    "import iexfinance as iex"
   ]
  },
  {
   "cell_type": "code",
   "execution_count": 13,
   "metadata": {},
   "outputs": [],
   "source": [
    "#http://finance.yahoo.com/q?s=AAPL"
   ]
  },
  {
   "cell_type": "markdown",
   "metadata": {},
   "source": [
    "# Data Collection\n",
    "\n",
    "In this step, you will need to use the IEX api to fetch closing prices for the `SPY` and `AGG` tickers. Save the results as a pandas DataFrame"
   ]
  },
  {
   "cell_type": "code",
   "execution_count": 4,
   "metadata": {},
   "outputs": [],
   "source": [
    "list_of_tickers = [\"SPY\", \"AGG\"]"
   ]
  },
  {
   "cell_type": "code",
   "execution_count": 14,
   "metadata": {},
   "outputs": [],
   "source": [
    "# YOUR CODE HERE\n",
    "#end_date = datetime.now()\n",
    "#start_date = end_date + timedelta(-365)\n",
    "#closing_prices_df = get_historical_data(list_of_tickers, start_date, end_date, output_format = 'pandas')"
   ]
  },
  {
   "cell_type": "code",
   "execution_count": 6,
   "metadata": {},
   "outputs": [
    {
     "ename": "NameError",
     "evalue": "name 'closing_prices_df' is not defined",
     "output_type": "error",
     "traceback": [
      "\u001b[1;31m---------------------------------------------------------------------------\u001b[0m",
      "\u001b[1;31mNameError\u001b[0m                                 Traceback (most recent call last)",
      "\u001b[1;32m<ipython-input-6-364a369a630c>\u001b[0m in \u001b[0;36m<module>\u001b[1;34m\u001b[0m\n\u001b[1;32m----> 1\u001b[1;33m \u001b[0mclosing_prices_df\u001b[0m\u001b[1;33m.\u001b[0m\u001b[0mto_pickle\u001b[0m\u001b[1;33m(\u001b[0m\u001b[1;34m\"historical_closing_prices.pickle\"\u001b[0m\u001b[1;33m)\u001b[0m\u001b[1;33m\u001b[0m\u001b[1;33m\u001b[0m\u001b[0m\n\u001b[0m",
      "\u001b[1;31mNameError\u001b[0m: name 'closing_prices_df' is not defined"
     ]
    }
   ],
   "source": [
    "closing_prices_df.to_pickle(\"historical_closing_prices.pickle\")"
   ]
  },
  {
   "cell_type": "code",
   "execution_count": 45,
   "metadata": {},
   "outputs": [],
   "source": [
    "historical_data_df = pd.read_pickle(\"historical_closing_prices.pickle\")"
   ]
  },
  {
   "cell_type": "code",
   "execution_count": 46,
   "metadata": {},
   "outputs": [
    {
     "data": {
      "text/html": [
       "<div>\n",
       "<style scoped>\n",
       "    .dataframe tbody tr th:only-of-type {\n",
       "        vertical-align: middle;\n",
       "    }\n",
       "\n",
       "    .dataframe tbody tr th {\n",
       "        vertical-align: top;\n",
       "    }\n",
       "\n",
       "    .dataframe thead tr th {\n",
       "        text-align: left;\n",
       "    }\n",
       "\n",
       "    .dataframe thead tr:last-of-type th {\n",
       "        text-align: right;\n",
       "    }\n",
       "</style>\n",
       "<table border=\"1\" class=\"dataframe\">\n",
       "  <thead>\n",
       "    <tr>\n",
       "      <th></th>\n",
       "      <th colspan=\"5\" halign=\"left\">SPY</th>\n",
       "      <th colspan=\"5\" halign=\"left\">AGG</th>\n",
       "    </tr>\n",
       "    <tr>\n",
       "      <th></th>\n",
       "      <th>open</th>\n",
       "      <th>high</th>\n",
       "      <th>low</th>\n",
       "      <th>close</th>\n",
       "      <th>volume</th>\n",
       "      <th>open</th>\n",
       "      <th>high</th>\n",
       "      <th>low</th>\n",
       "      <th>close</th>\n",
       "      <th>volume</th>\n",
       "    </tr>\n",
       "    <tr>\n",
       "      <th>date</th>\n",
       "      <th></th>\n",
       "      <th></th>\n",
       "      <th></th>\n",
       "      <th></th>\n",
       "      <th></th>\n",
       "      <th></th>\n",
       "      <th></th>\n",
       "      <th></th>\n",
       "      <th></th>\n",
       "      <th></th>\n",
       "    </tr>\n",
       "  </thead>\n",
       "  <tbody>\n",
       "    <tr>\n",
       "      <td>2019-01-29</td>\n",
       "      <td>263.92</td>\n",
       "      <td>264.55</td>\n",
       "      <td>262.48</td>\n",
       "      <td>263.41</td>\n",
       "      <td>66136334</td>\n",
       "      <td>106.73</td>\n",
       "      <td>106.93</td>\n",
       "      <td>106.69</td>\n",
       "      <td>106.90</td>\n",
       "      <td>6158607</td>\n",
       "    </tr>\n",
       "    <tr>\n",
       "      <td>2019-01-30</td>\n",
       "      <td>265.10</td>\n",
       "      <td>268.52</td>\n",
       "      <td>264.25</td>\n",
       "      <td>267.58</td>\n",
       "      <td>92473671</td>\n",
       "      <td>106.79</td>\n",
       "      <td>107.15</td>\n",
       "      <td>106.79</td>\n",
       "      <td>107.14</td>\n",
       "      <td>6350434</td>\n",
       "    </tr>\n",
       "    <tr>\n",
       "      <td>2019-01-31</td>\n",
       "      <td>267.51</td>\n",
       "      <td>270.47</td>\n",
       "      <td>267.27</td>\n",
       "      <td>269.93</td>\n",
       "      <td>104012073</td>\n",
       "      <td>107.30</td>\n",
       "      <td>107.53</td>\n",
       "      <td>107.29</td>\n",
       "      <td>107.46</td>\n",
       "      <td>14766451</td>\n",
       "    </tr>\n",
       "    <tr>\n",
       "      <td>2019-02-01</td>\n",
       "      <td>270.15</td>\n",
       "      <td>271.20</td>\n",
       "      <td>269.18</td>\n",
       "      <td>270.06</td>\n",
       "      <td>85782524</td>\n",
       "      <td>107.09</td>\n",
       "      <td>107.15</td>\n",
       "      <td>106.88</td>\n",
       "      <td>106.97</td>\n",
       "      <td>7227896</td>\n",
       "    </tr>\n",
       "    <tr>\n",
       "      <td>2019-02-04</td>\n",
       "      <td>270.11</td>\n",
       "      <td>272.03</td>\n",
       "      <td>269.36</td>\n",
       "      <td>271.96</td>\n",
       "      <td>60744844</td>\n",
       "      <td>106.83</td>\n",
       "      <td>106.90</td>\n",
       "      <td>106.77</td>\n",
       "      <td>106.88</td>\n",
       "      <td>14227726</td>\n",
       "    </tr>\n",
       "  </tbody>\n",
       "</table>\n",
       "</div>"
      ],
      "text/plain": [
       "               SPY                                        AGG                  \\\n",
       "              open    high     low   close     volume    open    high     low   \n",
       "date                                                                            \n",
       "2019-01-29  263.92  264.55  262.48  263.41   66136334  106.73  106.93  106.69   \n",
       "2019-01-30  265.10  268.52  264.25  267.58   92473671  106.79  107.15  106.79   \n",
       "2019-01-31  267.51  270.47  267.27  269.93  104012073  107.30  107.53  107.29   \n",
       "2019-02-01  270.15  271.20  269.18  270.06   85782524  107.09  107.15  106.88   \n",
       "2019-02-04  270.11  272.03  269.36  271.96   60744844  106.83  106.90  106.77   \n",
       "\n",
       "                              \n",
       "             close    volume  \n",
       "date                          \n",
       "2019-01-29  106.90   6158607  \n",
       "2019-01-30  107.14   6350434  \n",
       "2019-01-31  107.46  14766451  \n",
       "2019-02-01  106.97   7227896  \n",
       "2019-02-04  106.88  14227726  "
      ]
     },
     "execution_count": 46,
     "metadata": {},
     "output_type": "execute_result"
    }
   ],
   "source": [
    "historical_data_df.head()"
   ]
  },
  {
   "cell_type": "code",
   "execution_count": 47,
   "metadata": {},
   "outputs": [],
   "source": [
    "historical_data_df.drop(columns=['open', 'high', 'low', 'volume'], level=1, inplace=True)"
   ]
  },
  {
   "cell_type": "code",
   "execution_count": 48,
   "metadata": {},
   "outputs": [
    {
     "data": {
      "text/html": [
       "<div>\n",
       "<style scoped>\n",
       "    .dataframe tbody tr th:only-of-type {\n",
       "        vertical-align: middle;\n",
       "    }\n",
       "\n",
       "    .dataframe tbody tr th {\n",
       "        vertical-align: top;\n",
       "    }\n",
       "\n",
       "    .dataframe thead tr th {\n",
       "        text-align: left;\n",
       "    }\n",
       "\n",
       "    .dataframe thead tr:last-of-type th {\n",
       "        text-align: right;\n",
       "    }\n",
       "</style>\n",
       "<table border=\"1\" class=\"dataframe\">\n",
       "  <thead>\n",
       "    <tr>\n",
       "      <th></th>\n",
       "      <th>SPY</th>\n",
       "      <th>AGG</th>\n",
       "    </tr>\n",
       "    <tr>\n",
       "      <th></th>\n",
       "      <th>close</th>\n",
       "      <th>close</th>\n",
       "    </tr>\n",
       "    <tr>\n",
       "      <th>date</th>\n",
       "      <th></th>\n",
       "      <th></th>\n",
       "    </tr>\n",
       "  </thead>\n",
       "  <tbody>\n",
       "    <tr>\n",
       "      <td>2019-01-29</td>\n",
       "      <td>263.41</td>\n",
       "      <td>106.90</td>\n",
       "    </tr>\n",
       "    <tr>\n",
       "      <td>2019-01-30</td>\n",
       "      <td>267.58</td>\n",
       "      <td>107.14</td>\n",
       "    </tr>\n",
       "    <tr>\n",
       "      <td>2019-01-31</td>\n",
       "      <td>269.93</td>\n",
       "      <td>107.46</td>\n",
       "    </tr>\n",
       "    <tr>\n",
       "      <td>2019-02-01</td>\n",
       "      <td>270.06</td>\n",
       "      <td>106.97</td>\n",
       "    </tr>\n",
       "    <tr>\n",
       "      <td>2019-02-04</td>\n",
       "      <td>271.96</td>\n",
       "      <td>106.88</td>\n",
       "    </tr>\n",
       "  </tbody>\n",
       "</table>\n",
       "</div>"
      ],
      "text/plain": [
       "               SPY     AGG\n",
       "             close   close\n",
       "date                      \n",
       "2019-01-29  263.41  106.90\n",
       "2019-01-30  267.58  107.14\n",
       "2019-01-31  269.93  107.46\n",
       "2019-02-01  270.06  106.97\n",
       "2019-02-04  271.96  106.88"
      ]
     },
     "execution_count": 48,
     "metadata": {},
     "output_type": "execute_result"
    }
   ],
   "source": [
    "historical_data_df.head()"
   ]
  },
  {
   "cell_type": "code",
   "execution_count": 49,
   "metadata": {},
   "outputs": [
    {
     "data": {
      "text/plain": [
       "DatetimeIndex(['2019-01-29', '2019-01-30', '2019-01-31', '2019-02-01',\n",
       "               '2019-02-04', '2019-02-05', '2019-02-06', '2019-02-07',\n",
       "               '2019-02-08', '2019-02-11',\n",
       "               ...\n",
       "               '2020-01-14', '2020-01-15', '2020-01-16', '2020-01-17',\n",
       "               '2020-01-21', '2020-01-22', '2020-01-23', '2020-01-24',\n",
       "               '2020-01-27', '2020-01-28'],\n",
       "              dtype='datetime64[ns]', name='date', length=252, freq=None)"
      ]
     },
     "execution_count": 49,
     "metadata": {},
     "output_type": "execute_result"
    }
   ],
   "source": [
    "# check to see if the index is in datetime format\n",
    "historical_data_df.index"
   ]
  },
  {
   "cell_type": "code",
   "execution_count": 50,
   "metadata": {},
   "outputs": [
    {
     "data": {
      "text/plain": [
       "SPY  close    float64\n",
       "AGG  close    float64\n",
       "dtype: object"
      ]
     },
     "execution_count": 50,
     "metadata": {},
     "output_type": "execute_result"
    }
   ],
   "source": [
    "# columns are in the correct format to do our calculations\n",
    "historical_data_df.dtypes"
   ]
  },
  {
   "cell_type": "code",
   "execution_count": 51,
   "metadata": {},
   "outputs": [
    {
     "data": {
      "text/plain": [
       "SPY  close    0\n",
       "AGG  close    0\n",
       "dtype: int64"
      ]
     },
     "execution_count": 51,
     "metadata": {},
     "output_type": "execute_result"
    }
   ],
   "source": [
    "historical_data_df.isnull().sum()"
   ]
  },
  {
   "cell_type": "markdown",
   "metadata": {},
   "source": [
    "# Monte Carlo Simulation\n",
    "\n",
    "In this step, you will run Monte Carlo Simulations for your portfolio to model portfolio performance at different retirement ages. \n",
    "\n",
    "Complete the following steps:\n",
    "1. Calculate the daily returns for the SPY and AGG closing prices.\n",
    "2. Calculate volatility for both the SPY and AGG closing prices.\n",
    "3. Find the last day's closing price for both stocks and save those as variables.\n",
    "4. Run a Monte Carlo Simulation of at least 500 iterations and generate at least 30 years of closing prices\n",
    "\n",
    "### HINTS:\n",
    "There are 252 trading days per year, so the number of records to generate for each Monte Carlo run will be 252 days * 30 years"
   ]
  },
  {
   "cell_type": "code",
   "execution_count": 13,
   "metadata": {},
   "outputs": [],
   "source": [
    "# Calculate the daily roi for the stocks\n",
    "# YOUR CODE HERE\n",
    "daily_returns = historical_data_df.pct_change().dropna()"
   ]
  },
  {
   "cell_type": "code",
   "execution_count": 52,
   "metadata": {},
   "outputs": [
    {
     "data": {
      "text/html": [
       "<div>\n",
       "<style scoped>\n",
       "    .dataframe tbody tr th:only-of-type {\n",
       "        vertical-align: middle;\n",
       "    }\n",
       "\n",
       "    .dataframe tbody tr th {\n",
       "        vertical-align: top;\n",
       "    }\n",
       "\n",
       "    .dataframe thead tr th {\n",
       "        text-align: left;\n",
       "    }\n",
       "\n",
       "    .dataframe thead tr:last-of-type th {\n",
       "        text-align: right;\n",
       "    }\n",
       "</style>\n",
       "<table border=\"1\" class=\"dataframe\">\n",
       "  <thead>\n",
       "    <tr>\n",
       "      <th></th>\n",
       "      <th>SPY</th>\n",
       "      <th>AGG</th>\n",
       "    </tr>\n",
       "    <tr>\n",
       "      <th></th>\n",
       "      <th>close</th>\n",
       "      <th>close</th>\n",
       "    </tr>\n",
       "    <tr>\n",
       "      <th>date</th>\n",
       "      <th></th>\n",
       "      <th></th>\n",
       "    </tr>\n",
       "  </thead>\n",
       "  <tbody>\n",
       "    <tr>\n",
       "      <td>2019-01-30</td>\n",
       "      <td>0.015831</td>\n",
       "      <td>0.002245</td>\n",
       "    </tr>\n",
       "    <tr>\n",
       "      <td>2019-01-31</td>\n",
       "      <td>0.008782</td>\n",
       "      <td>0.002987</td>\n",
       "    </tr>\n",
       "    <tr>\n",
       "      <td>2019-02-01</td>\n",
       "      <td>0.000482</td>\n",
       "      <td>-0.004560</td>\n",
       "    </tr>\n",
       "    <tr>\n",
       "      <td>2019-02-04</td>\n",
       "      <td>0.007035</td>\n",
       "      <td>-0.000841</td>\n",
       "    </tr>\n",
       "    <tr>\n",
       "      <td>2019-02-05</td>\n",
       "      <td>0.004192</td>\n",
       "      <td>0.002152</td>\n",
       "    </tr>\n",
       "  </tbody>\n",
       "</table>\n",
       "</div>"
      ],
      "text/plain": [
       "                 SPY       AGG\n",
       "               close     close\n",
       "date                          \n",
       "2019-01-30  0.015831  0.002245\n",
       "2019-01-31  0.008782  0.002987\n",
       "2019-02-01  0.000482 -0.004560\n",
       "2019-02-04  0.007035 -0.000841\n",
       "2019-02-05  0.004192  0.002152"
      ]
     },
     "execution_count": 52,
     "metadata": {},
     "output_type": "execute_result"
    }
   ],
   "source": [
    "daily_returns.head()"
   ]
  },
  {
   "cell_type": "code",
   "execution_count": 54,
   "metadata": {},
   "outputs": [],
   "source": [
    "avg_daily_return_spy = daily_returns.mean()['SPY']['close']\n",
    "avg_daily_return_agg = daily_returns.mean()['AGG']['close']"
   ]
  },
  {
   "cell_type": "code",
   "execution_count": 55,
   "metadata": {},
   "outputs": [
    {
     "data": {
      "text/plain": [
       "0.0008885424610777967"
      ]
     },
     "execution_count": 55,
     "metadata": {},
     "output_type": "execute_result"
    }
   ],
   "source": [
    "avg_daily_return_spy"
   ]
  },
  {
   "cell_type": "code",
   "execution_count": 56,
   "metadata": {},
   "outputs": [
    {
     "data": {
      "text/plain": [
       "0.00025980151032518493"
      ]
     },
     "execution_count": 56,
     "metadata": {},
     "output_type": "execute_result"
    }
   ],
   "source": [
    "avg_daily_return_agg"
   ]
  },
  {
   "cell_type": "code",
   "execution_count": 62,
   "metadata": {},
   "outputs": [
    {
     "data": {
      "text/plain": [
       "0.007480403701160129"
      ]
     },
     "execution_count": 62,
     "metadata": {},
     "output_type": "execute_result"
    }
   ],
   "source": [
    "# Calculate volatility\n",
    "# YOUR CODE HERE\n",
    "volatility_return_spy = daily_returns.std()['SPY']['close']\n",
    "volatility_return_agg = daily_returns.std()['AGG']['close']\n",
    "volatility_return_spy"
   ]
  },
  {
   "cell_type": "code",
   "execution_count": 63,
   "metadata": {},
   "outputs": [
    {
     "data": {
      "text/html": [
       "<div>\n",
       "<style scoped>\n",
       "    .dataframe tbody tr th:only-of-type {\n",
       "        vertical-align: middle;\n",
       "    }\n",
       "\n",
       "    .dataframe tbody tr th {\n",
       "        vertical-align: top;\n",
       "    }\n",
       "\n",
       "    .dataframe thead tr th {\n",
       "        text-align: left;\n",
       "    }\n",
       "\n",
       "    .dataframe thead tr:last-of-type th {\n",
       "        text-align: right;\n",
       "    }\n",
       "</style>\n",
       "<table border=\"1\" class=\"dataframe\">\n",
       "  <thead>\n",
       "    <tr>\n",
       "      <th></th>\n",
       "      <th>SPY</th>\n",
       "      <th>AGG</th>\n",
       "    </tr>\n",
       "    <tr>\n",
       "      <th></th>\n",
       "      <th>close</th>\n",
       "      <th>close</th>\n",
       "    </tr>\n",
       "    <tr>\n",
       "      <th>date</th>\n",
       "      <th></th>\n",
       "      <th></th>\n",
       "    </tr>\n",
       "  </thead>\n",
       "  <tbody>\n",
       "    <tr>\n",
       "      <td>2020-01-28</td>\n",
       "      <td>326.89</td>\n",
       "      <td>114.04</td>\n",
       "    </tr>\n",
       "  </tbody>\n",
       "</table>\n",
       "</div>"
      ],
      "text/plain": [
       "               SPY     AGG\n",
       "             close   close\n",
       "date                      \n",
       "2020-01-28  326.89  114.04"
      ]
     },
     "execution_count": 63,
     "metadata": {},
     "output_type": "execute_result"
    }
   ],
   "source": [
    "historical_data_df.tail(1)"
   ]
  },
  {
   "cell_type": "code",
   "execution_count": 72,
   "metadata": {},
   "outputs": [
    {
     "data": {
      "text/plain": [
       "326.89"
      ]
     },
     "execution_count": 72,
     "metadata": {},
     "output_type": "execute_result"
    }
   ],
   "source": [
    "# Save the last day's closing price\n",
    "# YOUR CODE HERE\n",
    "spy_last_closing_price = historical_data_df['SPY','close'][-1]\n",
    "spy_last_closing_price"
   ]
  },
  {
   "cell_type": "code",
   "execution_count": 73,
   "metadata": {},
   "outputs": [
    {
     "data": {
      "text/plain": [
       "114.04"
      ]
     },
     "execution_count": 73,
     "metadata": {},
     "output_type": "execute_result"
    }
   ],
   "source": [
    "agg_last_closing_price = historical_data_df['AGG','close'][-1]\n",
    "agg_last_closing_price"
   ]
  },
  {
   "cell_type": "code",
   "execution_count": 98,
   "metadata": {},
   "outputs": [],
   "source": [
    "# Setup the Monte Carlo Parameters\n",
    "\n",
    "number_simulations = 500\n",
    "number_records = 252 * 30\n",
    "monte_carlo = pd.DataFrame()\n",
    "portfolio_cumulative_returns = pd.DataFrame()\n",
    "\n",
    "for x in range(number_simulations):\n",
    "    # YOUR CODE HERE\n",
    "    spy_simulated_price_list = [spy_last_closing_price]\n",
    "    agg_simulated_price_list = [agg_last_closing_price]\n",
    "    \n",
    "    spy_randoms = np.random.normal(avg_daily_return_spy, volatility_return_spy, number_records)\n",
    "    agg_randoms = np.random.normal(avg_daily_return_agg, volatility_return_agg, number_records)\n",
    "    \n",
    "    for i in range(number_records):\n",
    "        # Calculate the simulated price using the last prices within the list\n",
    "    \n",
    "        spy_simulated_price_result = spy_simulated_price_list[-1] * (1+spy_randoms[i])\n",
    "        agg_simulated_price_result = agg_simulated_price_list[-1] * (1+agg_randoms[i])\n",
    "        \n",
    "        spy_simulated_price_list.append(spy_simulated_price_result)\n",
    "        agg_simulated_price_list.append(agg_simulated_price_result)\n",
    "        \n",
    "    monte_carlo[\"SPY Prices \"] = pd.Series(spy_simulated_price_list)\n",
    "    monte_carlo[\"AGG Prices\"] = pd.Series(agg_simulated_price_list)\n",
    "    \n",
    "    simulated_daily_returns = monte_carlo.pct_change().dropna()\n",
    "    \n",
    "    weights = [0.60, 0.40]\n",
    "\n",
    "    # Use the `dot` function with the weights to multiply weights with each column's simulated daily returns\n",
    "    portfolio_daily_returns = simulated_daily_returns.dot(weights)\n",
    "    \n",
    "    # Calculate the normalized, cumulative return series\n",
    "    portfolio_cumulative_returns[x] = (1 + portfolio_daily_returns).cumprod()"
   ]
  },
  {
   "cell_type": "code",
   "execution_count": 99,
   "metadata": {},
   "outputs": [
    {
     "data": {
      "text/html": [
       "<div>\n",
       "<style scoped>\n",
       "    .dataframe tbody tr th:only-of-type {\n",
       "        vertical-align: middle;\n",
       "    }\n",
       "\n",
       "    .dataframe tbody tr th {\n",
       "        vertical-align: top;\n",
       "    }\n",
       "\n",
       "    .dataframe thead th {\n",
       "        text-align: right;\n",
       "    }\n",
       "</style>\n",
       "<table border=\"1\" class=\"dataframe\">\n",
       "  <thead>\n",
       "    <tr style=\"text-align: right;\">\n",
       "      <th></th>\n",
       "      <th>0</th>\n",
       "      <th>1</th>\n",
       "      <th>2</th>\n",
       "      <th>3</th>\n",
       "      <th>4</th>\n",
       "      <th>5</th>\n",
       "      <th>6</th>\n",
       "      <th>7</th>\n",
       "      <th>8</th>\n",
       "      <th>9</th>\n",
       "      <th>...</th>\n",
       "      <th>490</th>\n",
       "      <th>491</th>\n",
       "      <th>492</th>\n",
       "      <th>493</th>\n",
       "      <th>494</th>\n",
       "      <th>495</th>\n",
       "      <th>496</th>\n",
       "      <th>497</th>\n",
       "      <th>498</th>\n",
       "      <th>499</th>\n",
       "    </tr>\n",
       "  </thead>\n",
       "  <tbody>\n",
       "    <tr>\n",
       "      <td>1</td>\n",
       "      <td>0.996639</td>\n",
       "      <td>1.006064</td>\n",
       "      <td>1.000015</td>\n",
       "      <td>0.999718</td>\n",
       "      <td>1.005877</td>\n",
       "      <td>0.995669</td>\n",
       "      <td>0.997690</td>\n",
       "      <td>1.003201</td>\n",
       "      <td>1.004840</td>\n",
       "      <td>1.011542</td>\n",
       "      <td>...</td>\n",
       "      <td>1.001706</td>\n",
       "      <td>1.000324</td>\n",
       "      <td>0.998697</td>\n",
       "      <td>0.998513</td>\n",
       "      <td>1.006654</td>\n",
       "      <td>0.999350</td>\n",
       "      <td>0.995518</td>\n",
       "      <td>1.001128</td>\n",
       "      <td>0.987919</td>\n",
       "      <td>1.007484</td>\n",
       "    </tr>\n",
       "    <tr>\n",
       "      <td>2</td>\n",
       "      <td>0.997538</td>\n",
       "      <td>1.012583</td>\n",
       "      <td>0.998225</td>\n",
       "      <td>0.992645</td>\n",
       "      <td>1.008975</td>\n",
       "      <td>0.995713</td>\n",
       "      <td>1.003963</td>\n",
       "      <td>1.000124</td>\n",
       "      <td>1.004647</td>\n",
       "      <td>1.011608</td>\n",
       "      <td>...</td>\n",
       "      <td>1.000974</td>\n",
       "      <td>0.991439</td>\n",
       "      <td>0.998368</td>\n",
       "      <td>0.995697</td>\n",
       "      <td>1.008082</td>\n",
       "      <td>1.016173</td>\n",
       "      <td>0.987707</td>\n",
       "      <td>0.997836</td>\n",
       "      <td>0.985585</td>\n",
       "      <td>1.012883</td>\n",
       "    </tr>\n",
       "    <tr>\n",
       "      <td>3</td>\n",
       "      <td>0.994354</td>\n",
       "      <td>1.015413</td>\n",
       "      <td>1.001953</td>\n",
       "      <td>0.991613</td>\n",
       "      <td>1.006417</td>\n",
       "      <td>0.994706</td>\n",
       "      <td>0.999272</td>\n",
       "      <td>0.997150</td>\n",
       "      <td>1.004749</td>\n",
       "      <td>1.021809</td>\n",
       "      <td>...</td>\n",
       "      <td>1.002047</td>\n",
       "      <td>0.989905</td>\n",
       "      <td>0.997157</td>\n",
       "      <td>0.996873</td>\n",
       "      <td>1.007953</td>\n",
       "      <td>1.016925</td>\n",
       "      <td>0.982113</td>\n",
       "      <td>0.998267</td>\n",
       "      <td>0.990710</td>\n",
       "      <td>1.015288</td>\n",
       "    </tr>\n",
       "    <tr>\n",
       "      <td>4</td>\n",
       "      <td>0.993818</td>\n",
       "      <td>1.012248</td>\n",
       "      <td>0.997810</td>\n",
       "      <td>0.997334</td>\n",
       "      <td>1.002819</td>\n",
       "      <td>0.993683</td>\n",
       "      <td>1.006809</td>\n",
       "      <td>0.996827</td>\n",
       "      <td>1.003489</td>\n",
       "      <td>1.018942</td>\n",
       "      <td>...</td>\n",
       "      <td>1.004948</td>\n",
       "      <td>0.989589</td>\n",
       "      <td>1.000677</td>\n",
       "      <td>1.002635</td>\n",
       "      <td>1.016186</td>\n",
       "      <td>1.018288</td>\n",
       "      <td>0.988308</td>\n",
       "      <td>0.998957</td>\n",
       "      <td>0.983822</td>\n",
       "      <td>1.025629</td>\n",
       "    </tr>\n",
       "    <tr>\n",
       "      <td>5</td>\n",
       "      <td>0.985816</td>\n",
       "      <td>1.015656</td>\n",
       "      <td>0.995670</td>\n",
       "      <td>0.999808</td>\n",
       "      <td>1.003547</td>\n",
       "      <td>0.996221</td>\n",
       "      <td>1.010192</td>\n",
       "      <td>0.995495</td>\n",
       "      <td>1.006255</td>\n",
       "      <td>1.012441</td>\n",
       "      <td>...</td>\n",
       "      <td>1.003603</td>\n",
       "      <td>0.989275</td>\n",
       "      <td>1.002953</td>\n",
       "      <td>1.005304</td>\n",
       "      <td>1.017359</td>\n",
       "      <td>1.023415</td>\n",
       "      <td>0.986462</td>\n",
       "      <td>0.998863</td>\n",
       "      <td>0.986496</td>\n",
       "      <td>1.027639</td>\n",
       "    </tr>\n",
       "    <tr>\n",
       "      <td>...</td>\n",
       "      <td>...</td>\n",
       "      <td>...</td>\n",
       "      <td>...</td>\n",
       "      <td>...</td>\n",
       "      <td>...</td>\n",
       "      <td>...</td>\n",
       "      <td>...</td>\n",
       "      <td>...</td>\n",
       "      <td>...</td>\n",
       "      <td>...</td>\n",
       "      <td>...</td>\n",
       "      <td>...</td>\n",
       "      <td>...</td>\n",
       "      <td>...</td>\n",
       "      <td>...</td>\n",
       "      <td>...</td>\n",
       "      <td>...</td>\n",
       "      <td>...</td>\n",
       "      <td>...</td>\n",
       "      <td>...</td>\n",
       "      <td>...</td>\n",
       "    </tr>\n",
       "    <tr>\n",
       "      <td>7556</td>\n",
       "      <td>300.934776</td>\n",
       "      <td>141.747446</td>\n",
       "      <td>80.793591</td>\n",
       "      <td>105.103948</td>\n",
       "      <td>137.559215</td>\n",
       "      <td>70.328438</td>\n",
       "      <td>58.394252</td>\n",
       "      <td>197.782726</td>\n",
       "      <td>372.031151</td>\n",
       "      <td>203.815211</td>\n",
       "      <td>...</td>\n",
       "      <td>115.310520</td>\n",
       "      <td>52.002244</td>\n",
       "      <td>88.753763</td>\n",
       "      <td>135.388820</td>\n",
       "      <td>99.668903</td>\n",
       "      <td>60.168771</td>\n",
       "      <td>104.572778</td>\n",
       "      <td>139.231458</td>\n",
       "      <td>109.903003</td>\n",
       "      <td>87.946958</td>\n",
       "    </tr>\n",
       "    <tr>\n",
       "      <td>7557</td>\n",
       "      <td>298.689461</td>\n",
       "      <td>140.977873</td>\n",
       "      <td>80.956368</td>\n",
       "      <td>104.960735</td>\n",
       "      <td>137.181180</td>\n",
       "      <td>70.175428</td>\n",
       "      <td>58.691707</td>\n",
       "      <td>196.775958</td>\n",
       "      <td>372.646120</td>\n",
       "      <td>203.981193</td>\n",
       "      <td>...</td>\n",
       "      <td>115.719782</td>\n",
       "      <td>52.143816</td>\n",
       "      <td>88.782899</td>\n",
       "      <td>133.774531</td>\n",
       "      <td>99.898168</td>\n",
       "      <td>60.058599</td>\n",
       "      <td>104.018142</td>\n",
       "      <td>137.853513</td>\n",
       "      <td>110.368902</td>\n",
       "      <td>88.042926</td>\n",
       "    </tr>\n",
       "    <tr>\n",
       "      <td>7558</td>\n",
       "      <td>298.052800</td>\n",
       "      <td>140.266731</td>\n",
       "      <td>80.795353</td>\n",
       "      <td>104.895197</td>\n",
       "      <td>136.881215</td>\n",
       "      <td>70.435082</td>\n",
       "      <td>58.834738</td>\n",
       "      <td>197.116825</td>\n",
       "      <td>371.110147</td>\n",
       "      <td>204.138025</td>\n",
       "      <td>...</td>\n",
       "      <td>116.244705</td>\n",
       "      <td>52.730478</td>\n",
       "      <td>88.471618</td>\n",
       "      <td>133.581093</td>\n",
       "      <td>100.868510</td>\n",
       "      <td>60.496971</td>\n",
       "      <td>104.982220</td>\n",
       "      <td>137.557488</td>\n",
       "      <td>109.673024</td>\n",
       "      <td>88.225117</td>\n",
       "    </tr>\n",
       "    <tr>\n",
       "      <td>7559</td>\n",
       "      <td>295.637716</td>\n",
       "      <td>139.897637</td>\n",
       "      <td>81.508890</td>\n",
       "      <td>105.262361</td>\n",
       "      <td>136.685047</td>\n",
       "      <td>70.067384</td>\n",
       "      <td>59.490823</td>\n",
       "      <td>196.462532</td>\n",
       "      <td>372.377144</td>\n",
       "      <td>204.643971</td>\n",
       "      <td>...</td>\n",
       "      <td>116.727325</td>\n",
       "      <td>52.971195</td>\n",
       "      <td>88.601795</td>\n",
       "      <td>133.649984</td>\n",
       "      <td>101.171070</td>\n",
       "      <td>60.599825</td>\n",
       "      <td>104.853999</td>\n",
       "      <td>138.786321</td>\n",
       "      <td>110.019108</td>\n",
       "      <td>89.060734</td>\n",
       "    </tr>\n",
       "    <tr>\n",
       "      <td>7560</td>\n",
       "      <td>296.431668</td>\n",
       "      <td>139.079331</td>\n",
       "      <td>80.933135</td>\n",
       "      <td>105.563166</td>\n",
       "      <td>137.002660</td>\n",
       "      <td>70.149279</td>\n",
       "      <td>59.587894</td>\n",
       "      <td>197.950763</td>\n",
       "      <td>368.673774</td>\n",
       "      <td>205.598408</td>\n",
       "      <td>...</td>\n",
       "      <td>116.631902</td>\n",
       "      <td>53.133057</td>\n",
       "      <td>88.319455</td>\n",
       "      <td>132.425444</td>\n",
       "      <td>101.081166</td>\n",
       "      <td>60.472519</td>\n",
       "      <td>105.380949</td>\n",
       "      <td>138.899949</td>\n",
       "      <td>110.072899</td>\n",
       "      <td>89.403495</td>\n",
       "    </tr>\n",
       "  </tbody>\n",
       "</table>\n",
       "<p>7560 rows × 500 columns</p>\n",
       "</div>"
      ],
      "text/plain": [
       "             0           1          2           3           4          5    \\\n",
       "1       0.996639    1.006064   1.000015    0.999718    1.005877   0.995669   \n",
       "2       0.997538    1.012583   0.998225    0.992645    1.008975   0.995713   \n",
       "3       0.994354    1.015413   1.001953    0.991613    1.006417   0.994706   \n",
       "4       0.993818    1.012248   0.997810    0.997334    1.002819   0.993683   \n",
       "5       0.985816    1.015656   0.995670    0.999808    1.003547   0.996221   \n",
       "...          ...         ...        ...         ...         ...        ...   \n",
       "7556  300.934776  141.747446  80.793591  105.103948  137.559215  70.328438   \n",
       "7557  298.689461  140.977873  80.956368  104.960735  137.181180  70.175428   \n",
       "7558  298.052800  140.266731  80.795353  104.895197  136.881215  70.435082   \n",
       "7559  295.637716  139.897637  81.508890  105.262361  136.685047  70.067384   \n",
       "7560  296.431668  139.079331  80.933135  105.563166  137.002660  70.149279   \n",
       "\n",
       "            6           7           8           9    ...         490  \\\n",
       "1      0.997690    1.003201    1.004840    1.011542  ...    1.001706   \n",
       "2      1.003963    1.000124    1.004647    1.011608  ...    1.000974   \n",
       "3      0.999272    0.997150    1.004749    1.021809  ...    1.002047   \n",
       "4      1.006809    0.996827    1.003489    1.018942  ...    1.004948   \n",
       "5      1.010192    0.995495    1.006255    1.012441  ...    1.003603   \n",
       "...         ...         ...         ...         ...  ...         ...   \n",
       "7556  58.394252  197.782726  372.031151  203.815211  ...  115.310520   \n",
       "7557  58.691707  196.775958  372.646120  203.981193  ...  115.719782   \n",
       "7558  58.834738  197.116825  371.110147  204.138025  ...  116.244705   \n",
       "7559  59.490823  196.462532  372.377144  204.643971  ...  116.727325   \n",
       "7560  59.587894  197.950763  368.673774  205.598408  ...  116.631902   \n",
       "\n",
       "            491        492         493         494        495         496  \\\n",
       "1      1.000324   0.998697    0.998513    1.006654   0.999350    0.995518   \n",
       "2      0.991439   0.998368    0.995697    1.008082   1.016173    0.987707   \n",
       "3      0.989905   0.997157    0.996873    1.007953   1.016925    0.982113   \n",
       "4      0.989589   1.000677    1.002635    1.016186   1.018288    0.988308   \n",
       "5      0.989275   1.002953    1.005304    1.017359   1.023415    0.986462   \n",
       "...         ...        ...         ...         ...        ...         ...   \n",
       "7556  52.002244  88.753763  135.388820   99.668903  60.168771  104.572778   \n",
       "7557  52.143816  88.782899  133.774531   99.898168  60.058599  104.018142   \n",
       "7558  52.730478  88.471618  133.581093  100.868510  60.496971  104.982220   \n",
       "7559  52.971195  88.601795  133.649984  101.171070  60.599825  104.853999   \n",
       "7560  53.133057  88.319455  132.425444  101.081166  60.472519  105.380949   \n",
       "\n",
       "             497         498        499  \n",
       "1       1.001128    0.987919   1.007484  \n",
       "2       0.997836    0.985585   1.012883  \n",
       "3       0.998267    0.990710   1.015288  \n",
       "4       0.998957    0.983822   1.025629  \n",
       "5       0.998863    0.986496   1.027639  \n",
       "...          ...         ...        ...  \n",
       "7556  139.231458  109.903003  87.946958  \n",
       "7557  137.853513  110.368902  88.042926  \n",
       "7558  137.557488  109.673024  88.225117  \n",
       "7559  138.786321  110.019108  89.060734  \n",
       "7560  138.899949  110.072899  89.403495  \n",
       "\n",
       "[7560 rows x 500 columns]"
      ]
     },
     "execution_count": 99,
     "metadata": {},
     "output_type": "execute_result"
    }
   ],
   "source": [
    "portfolio_cumulative_returns"
   ]
  },
  {
   "cell_type": "code",
   "execution_count": 100,
   "metadata": {},
   "outputs": [
    {
     "data": {
      "text/plain": [
       "<matplotlib.axes._subplots.AxesSubplot at 0x26e3d92a448>"
      ]
     },
     "execution_count": 100,
     "metadata": {},
     "output_type": "execute_result"
    },
    {
     "data": {
      "image/png": "[encoded data removed]",
      "text/plain": [
       "<Figure size 1080x504 with 1 Axes>"
      ]
     },
     "metadata": {
      "needs_background": "light"
     },
     "output_type": "display_data"
    }
   ],
   "source": [
    "# Visualize the Simulation\n",
    "# YOUR CODE HERE\n",
    "plot_title = f\"{number_simulations} Simulations of {list_of_tickers} Simulations of Cumulative Portfolio Return Trajectories Over the Next 3 Years\"\n",
    "portfolio_cumulative_returns.plot(figsize=(15,7), legend = None, title = plot_title)"
   ]
  },
  {
   "cell_type": "code",
   "execution_count": 101,
   "metadata": {},
   "outputs": [
    {
     "data": {
      "text/plain": [
       "0    296.431668\n",
       "1    139.079331\n",
       "2     80.933135\n",
       "3    105.563166\n",
       "4    137.002660\n",
       "Name: 7560, dtype: float64"
      ]
     },
     "execution_count": 101,
     "metadata": {},
     "output_type": "execute_result"
    }
   ],
   "source": [
    "# Select the last row for the cumulative returns (cumulative returns at 30 years)\n",
    "# YOUR CODE HERE\n",
    "ending_cumulative_returns = portfolio_cumulative_returns.iloc[-1, :]\n",
    "ending_cumulative_returns.head()"
   ]
  },
  {
   "cell_type": "code",
   "execution_count": 105,
   "metadata": {},
   "outputs": [
    {
     "data": {
      "text/plain": [
       "0      56.767633\n",
       "1      31.588976\n",
       "2      18.285123\n",
       "3      23.187766\n",
       "4      24.198468\n",
       "         ...    \n",
       "495    15.840519\n",
       "496    40.271465\n",
       "497    23.940698\n",
       "498    21.147093\n",
       "499    25.601283\n",
       "Name: 5041, Length: 500, dtype: float64"
      ]
     },
     "execution_count": 105,
     "metadata": {},
     "output_type": "execute_result"
    }
   ],
   "source": [
    "# Select the last row for the cumulative returns (cumulative returns at 20 years)\n",
    "# YOUR CODE HERE\n",
    "portfolio_cumulative_returns.iloc[252*20,:]"
   ]
  },
  {
   "cell_type": "code",
   "execution_count": 110,
   "metadata": {},
   "outputs": [
    {
     "data": {
      "text/plain": [
       "0.05     55.331228\n",
       "0.95    205.052264\n",
       "Name: 7560, dtype: float64"
      ]
     },
     "execution_count": 110,
     "metadata": {},
     "output_type": "execute_result"
    }
   ],
   "source": [
    "# Display the 90% confidence interval for the ending returns\n",
    "# YOUR CODE HERE\n",
    "confidence_interval = ending_cumulative_returns.quantile(q = [0.05, 0.95])\n",
    "confidence_interval"
   ]
  },
  {
   "cell_type": "code",
   "execution_count": 115,
   "metadata": {},
   "outputs": [
    {
     "data": {
      "text/plain": [
       "<matplotlib.lines.Line2D at 0x26ea83c1d48>"
      ]
     },
     "execution_count": 115,
     "metadata": {},
     "output_type": "execute_result"
    },
    {
     "data": {
      "image/png": "[encoded data removed]",
      "text/plain": [
       "<Figure size 432x288 with 1 Axes>"
      ]
     },
     "metadata": {
      "needs_background": "light"
     },
     "output_type": "display_data"
    }
   ],
   "source": [
    "# Visualize the distribution of the ending returns\n",
    "# YOUR CODE HERE\n",
    "plt.figure()\n",
    "ending_cumulative_returns.plot.hist()\n",
    "plt.axvline(confidence_interval.iloc[0], color = 'r')\n",
    "plt.axvline(confidence_interval.iloc[1], color = 'r')"
   ]
  },
  {
   "cell_type": "markdown",
   "metadata": {},
   "source": [
    "---"
   ]
  },
  {
   "cell_type": "markdown",
   "metadata": {},
   "source": [
    "# Retirement Analysis\n",
    "\n",
    "In this section, you will use the monte carlo model to answer the following retirement planning questions:\n",
    "\n",
    "1. What are the expected cumulative returns at 30 years for the 10th, 50th, and 90th percentiles?\n",
    "2. Given an initial investment of `$20,000`, what is the expected portfolio return in dollars at the 10th, 50th, and 90th percentiles?\n",
    "3. Given the current projected annual income from the Plaid analysis, will a 4% withdraw rate from the retirement portfolio meet or exceed that value at the 10th percentile?\n",
    "4. How would a 50% increase in the initial investment amount affect the 4% retirement withdrawal?"
   ]
  },
  {
   "cell_type": "markdown",
   "metadata": {},
   "source": [
    "### What are the expected cumulative returns at 30 years for the 10th, 50th, and 90th percentiles?"
   ]
  },
  {
   "cell_type": "code",
   "execution_count": 116,
   "metadata": {},
   "outputs": [
    {
     "data": {
      "text/plain": [
       "0.05     55.331228\n",
       "0.95    205.052264\n",
       "Name: 7560, dtype: float64"
      ]
     },
     "execution_count": 116,
     "metadata": {},
     "output_type": "execute_result"
    }
   ],
   "source": [
    "# YOUR CODE HERE\n",
    "confidence_interval_a =ending_cumulative_returns.quantile(q = [0.05, 0.95])\n",
    "confidence_interval_a"
   ]
  },
  {
   "cell_type": "code",
   "execution_count": 117,
   "metadata": {},
   "outputs": [
    {
     "data": {
      "text/plain": [
       "0.25     88.555836\n",
       "0.75    148.982091\n",
       "Name: 7560, dtype: float64"
      ]
     },
     "execution_count": 117,
     "metadata": {},
     "output_type": "execute_result"
    }
   ],
   "source": [
    "confidence_interval_b = ending_cumulative_returns.quantile(q = [0.25, 0.75])\n",
    "confidence_interval_b"
   ]
  },
  {
   "cell_type": "code",
   "execution_count": 118,
   "metadata": {},
   "outputs": [
    {
     "data": {
      "text/plain": [
       "0.1     65.717626\n",
       "0.9    183.760265\n",
       "Name: 7560, dtype: float64"
      ]
     },
     "execution_count": 118,
     "metadata": {},
     "output_type": "execute_result"
    }
   ],
   "source": [
    "confidence_interval_c = ending_cumulative_returns.quantile(q = [0.10, 0.90])\n",
    "confidence_interval_c "
   ]
  },
  {
   "cell_type": "markdown",
   "metadata": {},
   "source": [
    "### Given an initial investment of `$20,000`, what is the expected portfolio return in dollars at the 10th, 50th, and 90th percentiles?"
   ]
  },
  {
   "cell_type": "code",
   "execution_count": 133,
   "metadata": {},
   "outputs": [
    {
     "name": "stdout",
     "output_type": "stream",
     "text": [
      "The 90th percentile expected return range is betwen $1106624.57and $4101045.29\n",
      "The 50th percentile expected return range is betwen $1771116.71and $2979641.83\n",
      "The 10th percentile expected return range is betwen $1314352.52and $3675205.29\n"
     ]
    }
   ],
   "source": [
    "# YOUR CODE HERE\n",
    "initial_investment = 20000\n",
    "\n",
    "exp_port_return_upper_a = initial_investment * confidence_interval_a.iloc[1]\n",
    "exp_port_return_lower_a = initial_investment * confidence_interval_a.iloc[0]\n",
    "\n",
    "print(f\"The 90th percentile expected return range is betwen ${round(exp_port_return_lower_a,2)}\"\n",
    "      f\"and ${round(exp_port_return_upper_a,2)}\")\n",
    "\n",
    "exp_port_return_upper_b = initial_investment * confidence_interval_b.iloc[1]\n",
    "exp_port_return_lower_b = initial_investment * confidence_interval_b.iloc[0]\n",
    "\n",
    "print(f\"The 50th percentile expected return range is betwen ${round(exp_port_return_lower_b,2)}\"\n",
    "      f\"and ${round(exp_port_return_upper_b,2)}\")\n",
    "\n",
    "exp_port_return_upper_c = initial_investment * confidence_interval_c.iloc[1]\n",
    "exp_port_return_lower_c = initial_investment * confidence_interval_c.iloc[0]\n",
    "print(f\"The 10th percentile expected return range is betwen ${round(exp_port_return_lower_c,2)}\"\n",
    "      f\"and ${round(exp_port_return_upper_c,2)}\")"
   ]
  },
  {
   "cell_type": "markdown",
   "metadata": {},
   "source": [
    "### Given the current projected annual income from the Plaid analysis, will a 4% withdraw rate from the retirement portfolio meet or exceed that value at the 10th percentile?\n",
    "\n",
    "Note: This is effectively saying that 90% of the expected returns will be greater than the return at the 10th percentile, so this can help measure the uncertainty about having enough funds at retirement"
   ]
  },
  {
   "cell_type": "code",
   "execution_count": 139,
   "metadata": {},
   "outputs": [
    {
     "name": "stdout",
     "output_type": "stream",
     "text": [
      "52574.1\n",
      "147008.21\n"
     ]
    }
   ],
   "source": [
    "# YOUR CODE HERE\n",
    "print(round(exp_port_return_lower_c * .04,2))\n",
    "print(round(exp_port_return_upper_c *.04,2))"
   ]
  },
  {
   "cell_type": "markdown",
   "metadata": {},
   "source": [
    "### How would a 50% increase in the initial investment amount affect the 4% retirement withdrawal?"
   ]
  },
  {
   "cell_type": "code",
   "execution_count": null,
   "metadata": {},
   "outputs": [],
   "source": [
    "# YOUR CODE HERE"
   ]
  },
  {
   "cell_type": "markdown",
   "metadata": {},
   "source": [
    "### Optional Challenge\n",
    "\n",
    "In this section, you will calculate and plot the cumulative returns for the median and 90% confidence intervals. This plot shows the expected cumulative returns for any given day between the first day and the last day of investment. "
   ]
  },
  {
   "cell_type": "code",
   "execution_count": null,
   "metadata": {},
   "outputs": [],
   "source": [
    "# YOUR CODE HERE"
   ]
  }
 ],
 "metadata": {
  "kernel_info": {
   "name": "dev"
  },
  "kernelspec": {
   "display_name": "Python 3",
   "language": "python",
   "name": "python3"
  },
  "language_info": {
   "codemirror_mode": {
    "name": "ipython",
    "version": 3
   },
   "file_extension": ".py",
   "mimetype": "text/x-python",
   "name": "python",
   "nbconvert_exporter": "python",
   "pygments_lexer": "ipython3",
   "version": "3.7.4"
  },
  "nteract": {
   "version": "0.12.3"
  }
 },
 "nbformat": 4,
 "nbformat_minor": 4
}
