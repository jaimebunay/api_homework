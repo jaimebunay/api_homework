{
 "cells": [
  {
   "cell_type": "code",
   "execution_count": 1,
   "metadata": {},
   "outputs": [],
   "source": [
    "# Initial imports\n",
    "import numpy as np\n",
    "import pandas as pd\n",
    "from datetime import datetime, timedelta\n",
    "import matplotlib.pyplot as plt\n",
    "%matplotlib inline"
   ]
  },
  {
   "cell_type": "code",
   "execution_count": 2,
   "metadata": {},
   "outputs": [],
   "source": [
    "# Initialize RandomState for reproducibility\n",
    "np.random.seed(42)"
   ]
  },
  {
   "cell_type": "markdown",
   "metadata": {},
   "source": [
    "# Portfolio Planner\n",
    "\n",
    "In this activity, you will use the iexfinance api to grab historical data for a 60/40 portfolio using `SPY` to represent the stock portion and `AGG` to represent the bonds."
   ]
  },
  {
   "cell_type": "code",
   "execution_count": 3,
   "metadata": {},
   "outputs": [],
   "source": [
    "from iexfinance.stocks import get_historical_data\n",
    "import iexfinance as iex"
   ]
  },
  {
   "cell_type": "markdown",
   "metadata": {},
   "source": [
    "# Data Collection\n",
    "\n",
    "In this step, you will need to use the IEX api to fetch closing prices for the `SPY` and `AGG` tickers. Save the results as a pandas DataFrame"
   ]
  },
  {
   "cell_type": "code",
   "execution_count": 4,
   "metadata": {},
   "outputs": [],
   "source": [
    "list_of_tickers = [\"SPY\", \"AGG\"]"
   ]
  },
  {
   "cell_type": "code",
   "execution_count": 5,
   "metadata": {},
   "outputs": [],
   "source": [
    "# YOUR CODE HERE\n",
    "end_date = datetime.now()\n",
    "start_date = end_date + timedelta(-365)\n",
    "closing_prices_df = get_historical_data(list_of_tickers, start_date, end_date, output_format = 'pandas')"
   ]
  },
  {
   "cell_type": "code",
   "execution_count": 6,
   "metadata": {},
   "outputs": [
    {
     "data": {
      "text/html": [
       "<div>\n",
       "<style scoped>\n",
       "    .dataframe tbody tr th:only-of-type {\n",
       "        vertical-align: middle;\n",
       "    }\n",
       "\n",
       "    .dataframe tbody tr th {\n",
       "        vertical-align: top;\n",
       "    }\n",
       "\n",
       "    .dataframe thead tr th {\n",
       "        text-align: left;\n",
       "    }\n",
       "\n",
       "    .dataframe thead tr:last-of-type th {\n",
       "        text-align: right;\n",
       "    }\n",
       "</style>\n",
       "<table border=\"1\" class=\"dataframe\">\n",
       "  <thead>\n",
       "    <tr>\n",
       "      <th></th>\n",
       "      <th colspan=\"5\" halign=\"left\">SPY</th>\n",
       "      <th colspan=\"5\" halign=\"left\">AGG</th>\n",
       "    </tr>\n",
       "    <tr>\n",
       "      <th></th>\n",
       "      <th>open</th>\n",
       "      <th>high</th>\n",
       "      <th>low</th>\n",
       "      <th>close</th>\n",
       "      <th>volume</th>\n",
       "      <th>open</th>\n",
       "      <th>high</th>\n",
       "      <th>low</th>\n",
       "      <th>close</th>\n",
       "      <th>volume</th>\n",
       "    </tr>\n",
       "    <tr>\n",
       "      <th>date</th>\n",
       "      <th></th>\n",
       "      <th></th>\n",
       "      <th></th>\n",
       "      <th></th>\n",
       "      <th></th>\n",
       "      <th></th>\n",
       "      <th></th>\n",
       "      <th></th>\n",
       "      <th></th>\n",
       "      <th></th>\n",
       "    </tr>\n",
       "  </thead>\n",
       "  <tbody>\n",
       "    <tr>\n",
       "      <th>2019-08-05</th>\n",
       "      <td>288.09</td>\n",
       "      <td>288.21</td>\n",
       "      <td>281.72</td>\n",
       "      <td>283.82</td>\n",
       "      <td>178745449</td>\n",
       "      <td>112.28</td>\n",
       "      <td>112.58</td>\n",
       "      <td>112.25</td>\n",
       "      <td>112.44</td>\n",
       "      <td>7626602</td>\n",
       "    </tr>\n",
       "    <tr>\n",
       "      <th>2019-08-06</th>\n",
       "      <td>285.91</td>\n",
       "      <td>288.04</td>\n",
       "      <td>284.28</td>\n",
       "      <td>287.80</td>\n",
       "      <td>120711682</td>\n",
       "      <td>112.47</td>\n",
       "      <td>112.76</td>\n",
       "      <td>112.40</td>\n",
       "      <td>112.74</td>\n",
       "      <td>5151810</td>\n",
       "    </tr>\n",
       "    <tr>\n",
       "      <th>2019-08-07</th>\n",
       "      <td>284.40</td>\n",
       "      <td>288.82</td>\n",
       "      <td>282.04</td>\n",
       "      <td>287.97</td>\n",
       "      <td>140572265</td>\n",
       "      <td>113.17</td>\n",
       "      <td>113.29</td>\n",
       "      <td>112.61</td>\n",
       "      <td>112.68</td>\n",
       "      <td>9156551</td>\n",
       "    </tr>\n",
       "    <tr>\n",
       "      <th>2019-08-08</th>\n",
       "      <td>289.62</td>\n",
       "      <td>293.62</td>\n",
       "      <td>289.01</td>\n",
       "      <td>293.62</td>\n",
       "      <td>87713904</td>\n",
       "      <td>112.51</td>\n",
       "      <td>112.82</td>\n",
       "      <td>112.33</td>\n",
       "      <td>112.79</td>\n",
       "      <td>3707196</td>\n",
       "    </tr>\n",
       "    <tr>\n",
       "      <th>2019-08-09</th>\n",
       "      <td>292.58</td>\n",
       "      <td>293.24</td>\n",
       "      <td>289.65</td>\n",
       "      <td>291.62</td>\n",
       "      <td>93729958</td>\n",
       "      <td>112.86</td>\n",
       "      <td>112.95</td>\n",
       "      <td>112.58</td>\n",
       "      <td>112.64</td>\n",
       "      <td>2432292</td>\n",
       "    </tr>\n",
       "  </tbody>\n",
       "</table>\n",
       "</div>"
      ],
      "text/plain": [
       "               SPY                                        AGG                  \\\n",
       "              open    high     low   close     volume    open    high     low   \n",
       "date                                                                            \n",
       "2019-08-05  288.09  288.21  281.72  283.82  178745449  112.28  112.58  112.25   \n",
       "2019-08-06  285.91  288.04  284.28  287.80  120711682  112.47  112.76  112.40   \n",
       "2019-08-07  284.40  288.82  282.04  287.97  140572265  113.17  113.29  112.61   \n",
       "2019-08-08  289.62  293.62  289.01  293.62   87713904  112.51  112.82  112.33   \n",
       "2019-08-09  292.58  293.24  289.65  291.62   93729958  112.86  112.95  112.58   \n",
       "\n",
       "                             \n",
       "             close   volume  \n",
       "date                         \n",
       "2019-08-05  112.44  7626602  \n",
       "2019-08-06  112.74  5151810  \n",
       "2019-08-07  112.68  9156551  \n",
       "2019-08-08  112.79  3707196  \n",
       "2019-08-09  112.64  2432292  "
      ]
     },
     "execution_count": 6,
     "metadata": {},
     "output_type": "execute_result"
    }
   ],
   "source": [
    "closing_prices_df.head()"
   ]
  },
  {
   "cell_type": "code",
   "execution_count": 7,
   "metadata": {},
   "outputs": [],
   "source": [
    "# Save DataFrame into a pickle file to avoid calling the API again, burning limited resources. \n",
    "closing_prices_df.to_pickle(\"historical_closing_prices.pickle\")"
   ]
  },
  {
   "cell_type": "code",
   "execution_count": 8,
   "metadata": {},
   "outputs": [],
   "source": [
    "historical_data_df = pd.read_pickle(\"historical_closing_prices.pickle\")"
   ]
  },
  {
   "cell_type": "code",
   "execution_count": 9,
   "metadata": {},
   "outputs": [
    {
     "data": {
      "text/html": [
       "<div>\n",
       "<style scoped>\n",
       "    .dataframe tbody tr th:only-of-type {\n",
       "        vertical-align: middle;\n",
       "    }\n",
       "\n",
       "    .dataframe tbody tr th {\n",
       "        vertical-align: top;\n",
       "    }\n",
       "\n",
       "    .dataframe thead tr th {\n",
       "        text-align: left;\n",
       "    }\n",
       "\n",
       "    .dataframe thead tr:last-of-type th {\n",
       "        text-align: right;\n",
       "    }\n",
       "</style>\n",
       "<table border=\"1\" class=\"dataframe\">\n",
       "  <thead>\n",
       "    <tr>\n",
       "      <th></th>\n",
       "      <th colspan=\"5\" halign=\"left\">SPY</th>\n",
       "      <th colspan=\"5\" halign=\"left\">AGG</th>\n",
       "    </tr>\n",
       "    <tr>\n",
       "      <th></th>\n",
       "      <th>open</th>\n",
       "      <th>high</th>\n",
       "      <th>low</th>\n",
       "      <th>close</th>\n",
       "      <th>volume</th>\n",
       "      <th>open</th>\n",
       "      <th>high</th>\n",
       "      <th>low</th>\n",
       "      <th>close</th>\n",
       "      <th>volume</th>\n",
       "    </tr>\n",
       "    <tr>\n",
       "      <th>date</th>\n",
       "      <th></th>\n",
       "      <th></th>\n",
       "      <th></th>\n",
       "      <th></th>\n",
       "      <th></th>\n",
       "      <th></th>\n",
       "      <th></th>\n",
       "      <th></th>\n",
       "      <th></th>\n",
       "      <th></th>\n",
       "    </tr>\n",
       "  </thead>\n",
       "  <tbody>\n",
       "    <tr>\n",
       "      <th>2019-08-05</th>\n",
       "      <td>288.09</td>\n",
       "      <td>288.21</td>\n",
       "      <td>281.72</td>\n",
       "      <td>283.82</td>\n",
       "      <td>178745449</td>\n",
       "      <td>112.28</td>\n",
       "      <td>112.58</td>\n",
       "      <td>112.25</td>\n",
       "      <td>112.44</td>\n",
       "      <td>7626602</td>\n",
       "    </tr>\n",
       "    <tr>\n",
       "      <th>2019-08-06</th>\n",
       "      <td>285.91</td>\n",
       "      <td>288.04</td>\n",
       "      <td>284.28</td>\n",
       "      <td>287.80</td>\n",
       "      <td>120711682</td>\n",
       "      <td>112.47</td>\n",
       "      <td>112.76</td>\n",
       "      <td>112.40</td>\n",
       "      <td>112.74</td>\n",
       "      <td>5151810</td>\n",
       "    </tr>\n",
       "    <tr>\n",
       "      <th>2019-08-07</th>\n",
       "      <td>284.40</td>\n",
       "      <td>288.82</td>\n",
       "      <td>282.04</td>\n",
       "      <td>287.97</td>\n",
       "      <td>140572265</td>\n",
       "      <td>113.17</td>\n",
       "      <td>113.29</td>\n",
       "      <td>112.61</td>\n",
       "      <td>112.68</td>\n",
       "      <td>9156551</td>\n",
       "    </tr>\n",
       "    <tr>\n",
       "      <th>2019-08-08</th>\n",
       "      <td>289.62</td>\n",
       "      <td>293.62</td>\n",
       "      <td>289.01</td>\n",
       "      <td>293.62</td>\n",
       "      <td>87713904</td>\n",
       "      <td>112.51</td>\n",
       "      <td>112.82</td>\n",
       "      <td>112.33</td>\n",
       "      <td>112.79</td>\n",
       "      <td>3707196</td>\n",
       "    </tr>\n",
       "    <tr>\n",
       "      <th>2019-08-09</th>\n",
       "      <td>292.58</td>\n",
       "      <td>293.24</td>\n",
       "      <td>289.65</td>\n",
       "      <td>291.62</td>\n",
       "      <td>93729958</td>\n",
       "      <td>112.86</td>\n",
       "      <td>112.95</td>\n",
       "      <td>112.58</td>\n",
       "      <td>112.64</td>\n",
       "      <td>2432292</td>\n",
       "    </tr>\n",
       "  </tbody>\n",
       "</table>\n",
       "</div>"
      ],
      "text/plain": [
       "               SPY                                        AGG                  \\\n",
       "              open    high     low   close     volume    open    high     low   \n",
       "date                                                                            \n",
       "2019-08-05  288.09  288.21  281.72  283.82  178745449  112.28  112.58  112.25   \n",
       "2019-08-06  285.91  288.04  284.28  287.80  120711682  112.47  112.76  112.40   \n",
       "2019-08-07  284.40  288.82  282.04  287.97  140572265  113.17  113.29  112.61   \n",
       "2019-08-08  289.62  293.62  289.01  293.62   87713904  112.51  112.82  112.33   \n",
       "2019-08-09  292.58  293.24  289.65  291.62   93729958  112.86  112.95  112.58   \n",
       "\n",
       "                             \n",
       "             close   volume  \n",
       "date                         \n",
       "2019-08-05  112.44  7626602  \n",
       "2019-08-06  112.74  5151810  \n",
       "2019-08-07  112.68  9156551  \n",
       "2019-08-08  112.79  3707196  \n",
       "2019-08-09  112.64  2432292  "
      ]
     },
     "execution_count": 9,
     "metadata": {},
     "output_type": "execute_result"
    }
   ],
   "source": [
    "historical_data_df.head()"
   ]
  },
  {
   "cell_type": "code",
   "execution_count": 10,
   "metadata": {},
   "outputs": [
    {
     "data": {
      "text/html": [
       "<div>\n",
       "<style scoped>\n",
       "    .dataframe tbody tr th:only-of-type {\n",
       "        vertical-align: middle;\n",
       "    }\n",
       "\n",
       "    .dataframe tbody tr th {\n",
       "        vertical-align: top;\n",
       "    }\n",
       "\n",
       "    .dataframe thead tr th {\n",
       "        text-align: left;\n",
       "    }\n",
       "\n",
       "    .dataframe thead tr:last-of-type th {\n",
       "        text-align: right;\n",
       "    }\n",
       "</style>\n",
       "<table border=\"1\" class=\"dataframe\">\n",
       "  <thead>\n",
       "    <tr>\n",
       "      <th></th>\n",
       "      <th>SPY</th>\n",
       "      <th>AGG</th>\n",
       "    </tr>\n",
       "    <tr>\n",
       "      <th></th>\n",
       "      <th>close</th>\n",
       "      <th>close</th>\n",
       "    </tr>\n",
       "    <tr>\n",
       "      <th>date</th>\n",
       "      <th></th>\n",
       "      <th></th>\n",
       "    </tr>\n",
       "  </thead>\n",
       "  <tbody>\n",
       "    <tr>\n",
       "      <th>2019-08-05</th>\n",
       "      <td>283.82</td>\n",
       "      <td>112.44</td>\n",
       "    </tr>\n",
       "    <tr>\n",
       "      <th>2019-08-06</th>\n",
       "      <td>287.80</td>\n",
       "      <td>112.74</td>\n",
       "    </tr>\n",
       "    <tr>\n",
       "      <th>2019-08-07</th>\n",
       "      <td>287.97</td>\n",
       "      <td>112.68</td>\n",
       "    </tr>\n",
       "    <tr>\n",
       "      <th>2019-08-08</th>\n",
       "      <td>293.62</td>\n",
       "      <td>112.79</td>\n",
       "    </tr>\n",
       "    <tr>\n",
       "      <th>2019-08-09</th>\n",
       "      <td>291.62</td>\n",
       "      <td>112.64</td>\n",
       "    </tr>\n",
       "  </tbody>\n",
       "</table>\n",
       "</div>"
      ],
      "text/plain": [
       "               SPY     AGG\n",
       "             close   close\n",
       "date                      \n",
       "2019-08-05  283.82  112.44\n",
       "2019-08-06  287.80  112.74\n",
       "2019-08-07  287.97  112.68\n",
       "2019-08-08  293.62  112.79\n",
       "2019-08-09  291.62  112.64"
      ]
     },
     "execution_count": 10,
     "metadata": {},
     "output_type": "execute_result"
    }
   ],
   "source": [
    "# We only need the closing prices for further analysis\n",
    "historical_data_df.drop(columns=['open', 'high', 'low', 'volume'], level=1, inplace=True)\n",
    "historical_data_df.head()"
   ]
  },
  {
   "cell_type": "code",
   "execution_count": 11,
   "metadata": {},
   "outputs": [
    {
     "data": {
      "text/plain": [
       "DatetimeIndex(['2019-08-05', '2019-08-06', '2019-08-07'], dtype='datetime64[ns]', name='date', freq=None)"
      ]
     },
     "execution_count": 11,
     "metadata": {},
     "output_type": "execute_result"
    }
   ],
   "source": [
    "# check to see if the index is in datetime format\n",
    "historical_data_df.index[:3]"
   ]
  },
  {
   "cell_type": "code",
   "execution_count": 12,
   "metadata": {},
   "outputs": [
    {
     "data": {
      "text/plain": [
       "SPY  close    float64\n",
       "AGG  close    float64\n",
       "dtype: object"
      ]
     },
     "execution_count": 12,
     "metadata": {},
     "output_type": "execute_result"
    }
   ],
   "source": [
    "# Check columns are in the correct format to do our calculations\n",
    "historical_data_df.dtypes"
   ]
  },
  {
   "cell_type": "code",
   "execution_count": 13,
   "metadata": {},
   "outputs": [
    {
     "data": {
      "text/plain": [
       "SPY  close    0\n",
       "AGG  close    0\n",
       "dtype: int64"
      ]
     },
     "execution_count": 13,
     "metadata": {},
     "output_type": "execute_result"
    }
   ],
   "source": [
    "# Check for Null Values\n",
    "historical_data_df.isnull().sum()"
   ]
  },
  {
   "cell_type": "markdown",
   "metadata": {},
   "source": [
    "# Monte Carlo Simulation\n",
    "\n",
    "In this step, you will run Monte Carlo Simulations for your portfolio to model portfolio performance at different retirement ages. \n",
    "\n",
    "Complete the following steps:\n",
    "1. Calculate the daily returns for the SPY and AGG closing prices.\n",
    "2. Calculate volatility for both the SPY and AGG closing prices.\n",
    "3. Find the last day's closing price for both stocks and save those as variables.\n",
    "4. Run a Monte Carlo Simulation of at least 500 iterations and generate at least 30 years of closing prices\n",
    "\n",
    "### HINTS:\n",
    "There are 252 trading days per year, so the number of records to generate for each Monte Carlo run will be 252 days * 30 years"
   ]
  },
  {
   "cell_type": "code",
   "execution_count": 14,
   "metadata": {},
   "outputs": [
    {
     "data": {
      "text/html": [
       "<div>\n",
       "<style scoped>\n",
       "    .dataframe tbody tr th:only-of-type {\n",
       "        vertical-align: middle;\n",
       "    }\n",
       "\n",
       "    .dataframe tbody tr th {\n",
       "        vertical-align: top;\n",
       "    }\n",
       "\n",
       "    .dataframe thead tr th {\n",
       "        text-align: left;\n",
       "    }\n",
       "\n",
       "    .dataframe thead tr:last-of-type th {\n",
       "        text-align: right;\n",
       "    }\n",
       "</style>\n",
       "<table border=\"1\" class=\"dataframe\">\n",
       "  <thead>\n",
       "    <tr>\n",
       "      <th></th>\n",
       "      <th>SPY</th>\n",
       "      <th>AGG</th>\n",
       "    </tr>\n",
       "    <tr>\n",
       "      <th></th>\n",
       "      <th>close</th>\n",
       "      <th>close</th>\n",
       "    </tr>\n",
       "    <tr>\n",
       "      <th>date</th>\n",
       "      <th></th>\n",
       "      <th></th>\n",
       "    </tr>\n",
       "  </thead>\n",
       "  <tbody>\n",
       "    <tr>\n",
       "      <th>2019-08-06</th>\n",
       "      <td>0.014023</td>\n",
       "      <td>0.002668</td>\n",
       "    </tr>\n",
       "    <tr>\n",
       "      <th>2019-08-07</th>\n",
       "      <td>0.000591</td>\n",
       "      <td>-0.000532</td>\n",
       "    </tr>\n",
       "    <tr>\n",
       "      <th>2019-08-08</th>\n",
       "      <td>0.019620</td>\n",
       "      <td>0.000976</td>\n",
       "    </tr>\n",
       "    <tr>\n",
       "      <th>2019-08-09</th>\n",
       "      <td>-0.006812</td>\n",
       "      <td>-0.001330</td>\n",
       "    </tr>\n",
       "    <tr>\n",
       "      <th>2019-08-12</th>\n",
       "      <td>-0.012173</td>\n",
       "      <td>0.003640</td>\n",
       "    </tr>\n",
       "  </tbody>\n",
       "</table>\n",
       "</div>"
      ],
      "text/plain": [
       "                 SPY       AGG\n",
       "               close     close\n",
       "date                          \n",
       "2019-08-06  0.014023  0.002668\n",
       "2019-08-07  0.000591 -0.000532\n",
       "2019-08-08  0.019620  0.000976\n",
       "2019-08-09 -0.006812 -0.001330\n",
       "2019-08-12 -0.012173  0.003640"
      ]
     },
     "execution_count": 14,
     "metadata": {},
     "output_type": "execute_result"
    }
   ],
   "source": [
    "# Calculate the daily roi for the stocks\n",
    "# YOUR CODE HERE\n",
    "daily_returns = historical_data_df.pct_change().dropna()\n",
    "daily_returns.head()"
   ]
  },
  {
   "cell_type": "code",
   "execution_count": 15,
   "metadata": {},
   "outputs": [
    {
     "name": "stdout",
     "output_type": "stream",
     "text": [
      "SPY average daily return is: 0.0007967474925861806\n",
      "AGG average daily return is: 0.00025293813767773664\n"
     ]
    }
   ],
   "source": [
    "# Calculate average daily returns\n",
    "avg_daily_return_spy = daily_returns.mean()['SPY']['close']\n",
    "avg_daily_return_agg = daily_returns.mean()['AGG']['close']\n",
    "print(f\"SPY average daily return is: {avg_daily_return_spy}\")\n",
    "print(f\"AGG average daily return is: {avg_daily_return_agg}\")"
   ]
  },
  {
   "cell_type": "code",
   "execution_count": 16,
   "metadata": {},
   "outputs": [
    {
     "name": "stdout",
     "output_type": "stream",
     "text": [
      "SPY volatility is: 0.02057350569989409\n",
      "AGG volatility is: 0.005383499826902219\n"
     ]
    }
   ],
   "source": [
    "# Calculate volatility\n",
    "volatility_return_spy = daily_returns.std()['SPY']['close']\n",
    "volatility_return_agg = daily_returns.std()['AGG']['close']\n",
    "print(f\"SPY volatility is: {volatility_return_spy}\")\n",
    "print(f\"AGG volatility is: {volatility_return_agg }\")"
   ]
  },
  {
   "cell_type": "code",
   "execution_count": 17,
   "metadata": {},
   "outputs": [
    {
     "data": {
      "text/html": [
       "<div>\n",
       "<style scoped>\n",
       "    .dataframe tbody tr th:only-of-type {\n",
       "        vertical-align: middle;\n",
       "    }\n",
       "\n",
       "    .dataframe tbody tr th {\n",
       "        vertical-align: top;\n",
       "    }\n",
       "\n",
       "    .dataframe thead tr th {\n",
       "        text-align: left;\n",
       "    }\n",
       "\n",
       "    .dataframe thead tr:last-of-type th {\n",
       "        text-align: right;\n",
       "    }\n",
       "</style>\n",
       "<table border=\"1\" class=\"dataframe\">\n",
       "  <thead>\n",
       "    <tr>\n",
       "      <th></th>\n",
       "      <th>SPY</th>\n",
       "      <th>AGG</th>\n",
       "    </tr>\n",
       "    <tr>\n",
       "      <th></th>\n",
       "      <th>close</th>\n",
       "      <th>close</th>\n",
       "    </tr>\n",
       "    <tr>\n",
       "      <th>date</th>\n",
       "      <th></th>\n",
       "      <th></th>\n",
       "    </tr>\n",
       "  </thead>\n",
       "  <tbody>\n",
       "    <tr>\n",
       "      <th>2020-08-03</th>\n",
       "      <td>328.79</td>\n",
       "      <td>119.4</td>\n",
       "    </tr>\n",
       "  </tbody>\n",
       "</table>\n",
       "</div>"
      ],
      "text/plain": [
       "               SPY    AGG\n",
       "             close  close\n",
       "date                     \n",
       "2020-08-03  328.79  119.4"
      ]
     },
     "execution_count": 17,
     "metadata": {},
     "output_type": "execute_result"
    }
   ],
   "source": [
    "historical_data_df.tail(1)"
   ]
  },
  {
   "cell_type": "code",
   "execution_count": 18,
   "metadata": {},
   "outputs": [
    {
     "name": "stdout",
     "output_type": "stream",
     "text": [
      "SPY last day's closing price is: 328.79\n"
     ]
    }
   ],
   "source": [
    "# Save the last day's closing price\n",
    "spy_last_closing_price = historical_data_df['SPY','close'][-1]\n",
    "print(\"SPY last day's closing price is: {}\".format(spy_last_closing_price ))"
   ]
  },
  {
   "cell_type": "code",
   "execution_count": 19,
   "metadata": {},
   "outputs": [
    {
     "name": "stdout",
     "output_type": "stream",
     "text": [
      "AGG last day's closing price is: 119.4\n"
     ]
    }
   ],
   "source": [
    "agg_last_closing_price = historical_data_df['AGG','close'][-1]\n",
    "print(\"AGG last day's closing price is: {}\".format(agg_last_closing_price))"
   ]
  },
  {
   "cell_type": "code",
   "execution_count": 20,
   "metadata": {},
   "outputs": [],
   "source": [
    "# Setup the Monte Carlo Parameters\n",
    "\n",
    "number_simulations = 500\n",
    "number_records = 252 * 30\n",
    "monte_carlo = pd.DataFrame()\n",
    "portfolio_cumulative_returns = pd.DataFrame()\n",
    "\n",
    "for x in range(number_simulations):\n",
    "    # YOUR CODE HERE\n",
    "    spy_simulated_price_list = [spy_last_closing_price]\n",
    "    agg_simulated_price_list = [agg_last_closing_price]\n",
    "    \n",
    "    spy_randoms = np.random.normal(avg_daily_return_spy, volatility_return_spy, number_records)\n",
    "    agg_randoms = np.random.normal(avg_daily_return_agg, volatility_return_agg, number_records)\n",
    "    \n",
    "    for i in range(number_records):\n",
    "        # Calculate the simulated price using the last prices within the list\n",
    "    \n",
    "        spy_simulated_price_result = spy_simulated_price_list[-1] * (1+spy_randoms[i])\n",
    "        agg_simulated_price_result = agg_simulated_price_list[-1] * (1+agg_randoms[i])\n",
    "        \n",
    "        spy_simulated_price_list.append(spy_simulated_price_result)\n",
    "        agg_simulated_price_list.append(agg_simulated_price_result)\n",
    "        \n",
    "    monte_carlo[\"SPY Prices \"] = pd.Series(spy_simulated_price_list)\n",
    "    monte_carlo[\"AGG Prices\"] = pd.Series(agg_simulated_price_list)\n",
    "    \n",
    "    simulated_daily_returns = monte_carlo.pct_change().dropna()\n",
    "    \n",
    "    weights = [0.60, 0.40]\n",
    "\n",
    "    # Use the `dot` function with the weights to multiply weights with each column's simulated daily returns\n",
    "    portfolio_daily_returns = simulated_daily_returns.dot(weights)\n",
    "    \n",
    "    # Calculate the normalized, cumulative return series\n",
    "    portfolio_cumulative_returns[x] = (1 + portfolio_daily_returns).cumprod()"
   ]
  },
  {
   "cell_type": "code",
   "execution_count": 21,
   "metadata": {},
   "outputs": [
    {
     "data": {
      "text/html": [
       "<div>\n",
       "<style scoped>\n",
       "    .dataframe tbody tr th:only-of-type {\n",
       "        vertical-align: middle;\n",
       "    }\n",
       "\n",
       "    .dataframe tbody tr th {\n",
       "        vertical-align: top;\n",
       "    }\n",
       "\n",
       "    .dataframe thead th {\n",
       "        text-align: right;\n",
       "    }\n",
       "</style>\n",
       "<table border=\"1\" class=\"dataframe\">\n",
       "  <thead>\n",
       "    <tr style=\"text-align: right;\">\n",
       "      <th></th>\n",
       "      <th>0</th>\n",
       "      <th>1</th>\n",
       "      <th>2</th>\n",
       "      <th>3</th>\n",
       "      <th>4</th>\n",
       "      <th>5</th>\n",
       "      <th>6</th>\n",
       "      <th>7</th>\n",
       "      <th>8</th>\n",
       "      <th>9</th>\n",
       "      <th>...</th>\n",
       "      <th>490</th>\n",
       "      <th>491</th>\n",
       "      <th>492</th>\n",
       "      <th>493</th>\n",
       "      <th>494</th>\n",
       "      <th>495</th>\n",
       "      <th>496</th>\n",
       "      <th>497</th>\n",
       "      <th>498</th>\n",
       "      <th>499</th>\n",
       "    </tr>\n",
       "  </thead>\n",
       "  <tbody>\n",
       "    <tr>\n",
       "      <th>1</th>\n",
       "      <td>1.003410</td>\n",
       "      <td>0.985861</td>\n",
       "      <td>0.981654</td>\n",
       "      <td>0.992677</td>\n",
       "      <td>1.009421</td>\n",
       "      <td>1.019768</td>\n",
       "      <td>1.024372</td>\n",
       "      <td>0.982571</td>\n",
       "      <td>1.002319</td>\n",
       "      <td>0.998737</td>\n",
       "      <td>...</td>\n",
       "      <td>1.002564</td>\n",
       "      <td>0.990836</td>\n",
       "      <td>1.020198</td>\n",
       "      <td>0.996585</td>\n",
       "      <td>0.994111</td>\n",
       "      <td>1.006040</td>\n",
       "      <td>0.990005</td>\n",
       "      <td>0.979434</td>\n",
       "      <td>1.010424</td>\n",
       "      <td>1.000214</td>\n",
       "    </tr>\n",
       "    <tr>\n",
       "      <th>2</th>\n",
       "      <td>0.999840</td>\n",
       "      <td>0.985616</td>\n",
       "      <td>0.979339</td>\n",
       "      <td>1.006274</td>\n",
       "      <td>1.038616</td>\n",
       "      <td>1.000059</td>\n",
       "      <td>1.011158</td>\n",
       "      <td>1.018917</td>\n",
       "      <td>1.000497</td>\n",
       "      <td>0.987234</td>\n",
       "      <td>...</td>\n",
       "      <td>1.006232</td>\n",
       "      <td>0.971975</td>\n",
       "      <td>1.021620</td>\n",
       "      <td>1.005929</td>\n",
       "      <td>0.984558</td>\n",
       "      <td>1.014982</td>\n",
       "      <td>0.996884</td>\n",
       "      <td>0.999361</td>\n",
       "      <td>1.001726</td>\n",
       "      <td>0.985968</td>\n",
       "    </tr>\n",
       "    <tr>\n",
       "      <th>3</th>\n",
       "      <td>1.010507</td>\n",
       "      <td>0.992136</td>\n",
       "      <td>0.971332</td>\n",
       "      <td>1.004970</td>\n",
       "      <td>1.046611</td>\n",
       "      <td>0.977123</td>\n",
       "      <td>0.991293</td>\n",
       "      <td>0.992552</td>\n",
       "      <td>0.998589</td>\n",
       "      <td>1.010999</td>\n",
       "      <td>...</td>\n",
       "      <td>1.009678</td>\n",
       "      <td>0.988791</td>\n",
       "      <td>1.028678</td>\n",
       "      <td>1.008601</td>\n",
       "      <td>0.984808</td>\n",
       "      <td>1.012021</td>\n",
       "      <td>0.992660</td>\n",
       "      <td>0.999920</td>\n",
       "      <td>1.002343</td>\n",
       "      <td>0.997706</td>\n",
       "    </tr>\n",
       "    <tr>\n",
       "      <th>4</th>\n",
       "      <td>1.031989</td>\n",
       "      <td>1.000587</td>\n",
       "      <td>0.979289</td>\n",
       "      <td>0.981043</td>\n",
       "      <td>1.040288</td>\n",
       "      <td>0.979209</td>\n",
       "      <td>0.985229</td>\n",
       "      <td>0.980338</td>\n",
       "      <td>0.995786</td>\n",
       "      <td>1.001198</td>\n",
       "      <td>...</td>\n",
       "      <td>1.015902</td>\n",
       "      <td>0.987619</td>\n",
       "      <td>1.034438</td>\n",
       "      <td>1.014899</td>\n",
       "      <td>0.984566</td>\n",
       "      <td>0.977411</td>\n",
       "      <td>0.996012</td>\n",
       "      <td>0.991745</td>\n",
       "      <td>0.999661</td>\n",
       "      <td>1.004599</td>\n",
       "    </tr>\n",
       "    <tr>\n",
       "      <th>5</th>\n",
       "      <td>1.030411</td>\n",
       "      <td>0.999208</td>\n",
       "      <td>0.988792</td>\n",
       "      <td>0.967006</td>\n",
       "      <td>1.038357</td>\n",
       "      <td>0.990701</td>\n",
       "      <td>0.993158</td>\n",
       "      <td>0.964523</td>\n",
       "      <td>0.992646</td>\n",
       "      <td>1.015191</td>\n",
       "      <td>...</td>\n",
       "      <td>1.013584</td>\n",
       "      <td>0.996223</td>\n",
       "      <td>1.045326</td>\n",
       "      <td>1.011881</td>\n",
       "      <td>0.970083</td>\n",
       "      <td>0.972032</td>\n",
       "      <td>1.004087</td>\n",
       "      <td>1.007900</td>\n",
       "      <td>1.007005</td>\n",
       "      <td>1.000198</td>\n",
       "    </tr>\n",
       "    <tr>\n",
       "      <th>...</th>\n",
       "      <td>...</td>\n",
       "      <td>...</td>\n",
       "      <td>...</td>\n",
       "      <td>...</td>\n",
       "      <td>...</td>\n",
       "      <td>...</td>\n",
       "      <td>...</td>\n",
       "      <td>...</td>\n",
       "      <td>...</td>\n",
       "      <td>...</td>\n",
       "      <td>...</td>\n",
       "      <td>...</td>\n",
       "      <td>...</td>\n",
       "      <td>...</td>\n",
       "      <td>...</td>\n",
       "      <td>...</td>\n",
       "      <td>...</td>\n",
       "      <td>...</td>\n",
       "      <td>...</td>\n",
       "      <td>...</td>\n",
       "      <td>...</td>\n",
       "    </tr>\n",
       "    <tr>\n",
       "      <th>7556</th>\n",
       "      <td>29.379090</td>\n",
       "      <td>51.797352</td>\n",
       "      <td>12.832043</td>\n",
       "      <td>33.833280</td>\n",
       "      <td>133.764251</td>\n",
       "      <td>102.701848</td>\n",
       "      <td>19.976520</td>\n",
       "      <td>330.909481</td>\n",
       "      <td>40.822188</td>\n",
       "      <td>32.964386</td>\n",
       "      <td>...</td>\n",
       "      <td>18.867924</td>\n",
       "      <td>25.625784</td>\n",
       "      <td>31.293040</td>\n",
       "      <td>79.022980</td>\n",
       "      <td>81.299411</td>\n",
       "      <td>498.815973</td>\n",
       "      <td>23.181323</td>\n",
       "      <td>128.861034</td>\n",
       "      <td>25.543052</td>\n",
       "      <td>30.975390</td>\n",
       "    </tr>\n",
       "    <tr>\n",
       "      <th>7557</th>\n",
       "      <td>29.850376</td>\n",
       "      <td>52.022218</td>\n",
       "      <td>12.535587</td>\n",
       "      <td>34.271245</td>\n",
       "      <td>133.257070</td>\n",
       "      <td>103.766255</td>\n",
       "      <td>19.758983</td>\n",
       "      <td>332.132227</td>\n",
       "      <td>41.340455</td>\n",
       "      <td>32.767083</td>\n",
       "      <td>...</td>\n",
       "      <td>18.832248</td>\n",
       "      <td>25.383677</td>\n",
       "      <td>31.685877</td>\n",
       "      <td>79.645040</td>\n",
       "      <td>80.285566</td>\n",
       "      <td>500.741723</td>\n",
       "      <td>23.402403</td>\n",
       "      <td>130.038952</td>\n",
       "      <td>25.924995</td>\n",
       "      <td>31.507127</td>\n",
       "    </tr>\n",
       "    <tr>\n",
       "      <th>7558</th>\n",
       "      <td>29.830620</td>\n",
       "      <td>52.053245</td>\n",
       "      <td>12.141341</td>\n",
       "      <td>33.801298</td>\n",
       "      <td>132.107074</td>\n",
       "      <td>102.776112</td>\n",
       "      <td>19.474918</td>\n",
       "      <td>333.844216</td>\n",
       "      <td>40.599405</td>\n",
       "      <td>32.934130</td>\n",
       "      <td>...</td>\n",
       "      <td>18.816109</td>\n",
       "      <td>25.344156</td>\n",
       "      <td>31.420812</td>\n",
       "      <td>80.368843</td>\n",
       "      <td>81.142971</td>\n",
       "      <td>503.511366</td>\n",
       "      <td>23.545752</td>\n",
       "      <td>129.866851</td>\n",
       "      <td>25.612375</td>\n",
       "      <td>31.814029</td>\n",
       "    </tr>\n",
       "    <tr>\n",
       "      <th>7559</th>\n",
       "      <td>29.486002</td>\n",
       "      <td>51.489483</td>\n",
       "      <td>12.117245</td>\n",
       "      <td>34.035666</td>\n",
       "      <td>130.773785</td>\n",
       "      <td>103.784009</td>\n",
       "      <td>19.481055</td>\n",
       "      <td>335.589462</td>\n",
       "      <td>41.210384</td>\n",
       "      <td>32.795867</td>\n",
       "      <td>...</td>\n",
       "      <td>19.128393</td>\n",
       "      <td>25.388160</td>\n",
       "      <td>31.177980</td>\n",
       "      <td>80.983568</td>\n",
       "      <td>80.208079</td>\n",
       "      <td>500.585009</td>\n",
       "      <td>23.454436</td>\n",
       "      <td>129.710639</td>\n",
       "      <td>25.543893</td>\n",
       "      <td>32.246126</td>\n",
       "    </tr>\n",
       "    <tr>\n",
       "      <th>7560</th>\n",
       "      <td>29.558604</td>\n",
       "      <td>51.284612</td>\n",
       "      <td>12.193363</td>\n",
       "      <td>34.809746</td>\n",
       "      <td>132.447287</td>\n",
       "      <td>103.506606</td>\n",
       "      <td>19.479384</td>\n",
       "      <td>333.020282</td>\n",
       "      <td>40.495360</td>\n",
       "      <td>32.173338</td>\n",
       "      <td>...</td>\n",
       "      <td>19.375081</td>\n",
       "      <td>25.663920</td>\n",
       "      <td>31.047792</td>\n",
       "      <td>79.639659</td>\n",
       "      <td>79.964948</td>\n",
       "      <td>497.524842</td>\n",
       "      <td>23.035434</td>\n",
       "      <td>128.811933</td>\n",
       "      <td>25.471423</td>\n",
       "      <td>32.702885</td>\n",
       "    </tr>\n",
       "  </tbody>\n",
       "</table>\n",
       "<p>7560 rows × 500 columns</p>\n",
       "</div>"
      ],
      "text/plain": [
       "            0          1          2          3           4           5    \\\n",
       "1      1.003410   0.985861   0.981654   0.992677    1.009421    1.019768   \n",
       "2      0.999840   0.985616   0.979339   1.006274    1.038616    1.000059   \n",
       "3      1.010507   0.992136   0.971332   1.004970    1.046611    0.977123   \n",
       "4      1.031989   1.000587   0.979289   0.981043    1.040288    0.979209   \n",
       "5      1.030411   0.999208   0.988792   0.967006    1.038357    0.990701   \n",
       "...         ...        ...        ...        ...         ...         ...   \n",
       "7556  29.379090  51.797352  12.832043  33.833280  133.764251  102.701848   \n",
       "7557  29.850376  52.022218  12.535587  34.271245  133.257070  103.766255   \n",
       "7558  29.830620  52.053245  12.141341  33.801298  132.107074  102.776112   \n",
       "7559  29.486002  51.489483  12.117245  34.035666  130.773785  103.784009   \n",
       "7560  29.558604  51.284612  12.193363  34.809746  132.447287  103.506606   \n",
       "\n",
       "            6           7          8          9    ...        490        491  \\\n",
       "1      1.024372    0.982571   1.002319   0.998737  ...   1.002564   0.990836   \n",
       "2      1.011158    1.018917   1.000497   0.987234  ...   1.006232   0.971975   \n",
       "3      0.991293    0.992552   0.998589   1.010999  ...   1.009678   0.988791   \n",
       "4      0.985229    0.980338   0.995786   1.001198  ...   1.015902   0.987619   \n",
       "5      0.993158    0.964523   0.992646   1.015191  ...   1.013584   0.996223   \n",
       "...         ...         ...        ...        ...  ...        ...        ...   \n",
       "7556  19.976520  330.909481  40.822188  32.964386  ...  18.867924  25.625784   \n",
       "7557  19.758983  332.132227  41.340455  32.767083  ...  18.832248  25.383677   \n",
       "7558  19.474918  333.844216  40.599405  32.934130  ...  18.816109  25.344156   \n",
       "7559  19.481055  335.589462  41.210384  32.795867  ...  19.128393  25.388160   \n",
       "7560  19.479384  333.020282  40.495360  32.173338  ...  19.375081  25.663920   \n",
       "\n",
       "            492        493        494         495        496         497  \\\n",
       "1      1.020198   0.996585   0.994111    1.006040   0.990005    0.979434   \n",
       "2      1.021620   1.005929   0.984558    1.014982   0.996884    0.999361   \n",
       "3      1.028678   1.008601   0.984808    1.012021   0.992660    0.999920   \n",
       "4      1.034438   1.014899   0.984566    0.977411   0.996012    0.991745   \n",
       "5      1.045326   1.011881   0.970083    0.972032   1.004087    1.007900   \n",
       "...         ...        ...        ...         ...        ...         ...   \n",
       "7556  31.293040  79.022980  81.299411  498.815973  23.181323  128.861034   \n",
       "7557  31.685877  79.645040  80.285566  500.741723  23.402403  130.038952   \n",
       "7558  31.420812  80.368843  81.142971  503.511366  23.545752  129.866851   \n",
       "7559  31.177980  80.983568  80.208079  500.585009  23.454436  129.710639   \n",
       "7560  31.047792  79.639659  79.964948  497.524842  23.035434  128.811933   \n",
       "\n",
       "            498        499  \n",
       "1      1.010424   1.000214  \n",
       "2      1.001726   0.985968  \n",
       "3      1.002343   0.997706  \n",
       "4      0.999661   1.004599  \n",
       "5      1.007005   1.000198  \n",
       "...         ...        ...  \n",
       "7556  25.543052  30.975390  \n",
       "7557  25.924995  31.507127  \n",
       "7558  25.612375  31.814029  \n",
       "7559  25.543893  32.246126  \n",
       "7560  25.471423  32.702885  \n",
       "\n",
       "[7560 rows x 500 columns]"
      ]
     },
     "execution_count": 21,
     "metadata": {},
     "output_type": "execute_result"
    }
   ],
   "source": [
    "portfolio_cumulative_returns"
   ]
  },
  {
   "cell_type": "code",
   "execution_count": 22,
   "metadata": {},
   "outputs": [
    {
     "data": {
      "text/plain": [
       "<matplotlib.axes._subplots.AxesSubplot at 0x1f462374148>"
      ]
     },
     "execution_count": 22,
     "metadata": {},
     "output_type": "execute_result"
    },
    {
     "data": {
      "image/png": "[encoded data removed]",
      "text/plain": [
       "<Figure size 1080x504 with 1 Axes>"
      ]
     },
     "metadata": {
      "needs_background": "light"
     },
     "output_type": "display_data"
    }
   ],
   "source": [
    "# Visualize the Simulation\n",
    "# YOUR CODE HERE\n",
    "plot_title = f\"{number_simulations} Simulations of {list_of_tickers} Cumulative Portfolio Return Trajectories Over the Next 30 Years\"\n",
    "portfolio_cumulative_returns.plot(figsize=(15,7), legend = None, title = plot_title)"
   ]
  },
  {
   "cell_type": "code",
   "execution_count": 23,
   "metadata": {},
   "outputs": [
    {
     "data": {
      "text/plain": [
       "0     29.558604\n",
       "1     51.284612\n",
       "2     12.193363\n",
       "3     34.809746\n",
       "4    132.447287\n",
       "Name: 7560, dtype: float64"
      ]
     },
     "execution_count": 23,
     "metadata": {},
     "output_type": "execute_result"
    }
   ],
   "source": [
    "# Select the last row for the cumulative returns (cumulative returns at 30 years)\n",
    "ending_cumulative_returns = portfolio_cumulative_returns.iloc[-1, :]\n",
    "ending_cumulative_returns.head()"
   ]
  },
  {
   "cell_type": "code",
   "execution_count": 24,
   "metadata": {},
   "outputs": [
    {
     "data": {
      "text/plain": [
       "0      18.239023\n",
       "1      34.878674\n",
       "2       5.649545\n",
       "3       6.671368\n",
       "4      41.390160\n",
       "         ...    \n",
       "495    87.487736\n",
       "496    13.900760\n",
       "497    29.955532\n",
       "498    14.483371\n",
       "499     6.837305\n",
       "Name: 5041, Length: 500, dtype: float64"
      ]
     },
     "execution_count": 24,
     "metadata": {},
     "output_type": "execute_result"
    }
   ],
   "source": [
    "# Select the last row for the cumulative returns (cumulative returns at 20 years)\n",
    "portfolio_cumulative_returns.iloc[252*20,:]"
   ]
  },
  {
   "cell_type": "code",
   "execution_count": 25,
   "metadata": {},
   "outputs": [
    {
     "data": {
      "text/plain": [
       "0.05      6.501676\n",
       "0.95    226.941795\n",
       "Name: 7560, dtype: float64"
      ]
     },
     "execution_count": 25,
     "metadata": {},
     "output_type": "execute_result"
    }
   ],
   "source": [
    "# Display the 90% confidence interval for the ending returns\n",
    "confidence_interval = ending_cumulative_returns.quantile(q = [0.05, 0.95])\n",
    "confidence_interval"
   ]
  },
  {
   "cell_type": "code",
   "execution_count": 26,
   "metadata": {},
   "outputs": [
    {
     "data": {
      "text/plain": [
       "6.501675833773747"
      ]
     },
     "execution_count": 26,
     "metadata": {},
     "output_type": "execute_result"
    }
   ],
   "source": [
    "confidence_interval.iloc[0]"
   ]
  },
  {
   "cell_type": "code",
   "execution_count": 27,
   "metadata": {},
   "outputs": [
    {
     "data": {
      "text/plain": [
       "226.94179526368958"
      ]
     },
     "execution_count": 27,
     "metadata": {},
     "output_type": "execute_result"
    }
   ],
   "source": [
    "confidence_interval.iloc[1]"
   ]
  },
  {
   "cell_type": "code",
   "execution_count": 28,
   "metadata": {},
   "outputs": [
    {
     "data": {
      "text/plain": [
       "<matplotlib.lines.Line2D at 0x1f46193a648>"
      ]
     },
     "execution_count": 28,
     "metadata": {},
     "output_type": "execute_result"
    },
    {
     "data": {
      "image/png": "[encoded data removed]",
      "text/plain": [
       "<Figure size 432x288 with 1 Axes>"
      ]
     },
     "metadata": {
      "needs_background": "light"
     },
     "output_type": "display_data"
    }
   ],
   "source": [
    "# Visualize the distribution of the ending returns\n",
    "plt.figure()\n",
    "ending_cumulative_returns.plot.hist(50)\n",
    "plt.axvline(confidence_interval.iloc[0], color = 'r')\n",
    "plt.axvline(confidence_interval.iloc[1], color = 'r')"
   ]
  },
  {
   "cell_type": "markdown",
   "metadata": {},
   "source": [
    "---"
   ]
  },
  {
   "cell_type": "markdown",
   "metadata": {},
   "source": [
    "# Retirement Analysis\n",
    "\n",
    "In this section, you will use the monte carlo model to answer the following retirement planning questions:\n",
    "\n",
    "1. What are the expected cumulative returns at 30 years for the 10th, 50th, and 90th percentiles?\n",
    "2. Given an initial investment of `$20,000`, what is the expected portfolio return in dollars at the 10th, 50th, and 90th percentiles?\n",
    "3. Given the current projected annual income from the Plaid analysis, will a 4% withdraw rate from the retirement portfolio meet or exceed that value at the 10th percentile?\n",
    "4. How would a 50% increase in the initial investment amount affect the 4% retirement withdrawal?"
   ]
  },
  {
   "cell_type": "markdown",
   "metadata": {},
   "source": [
    "### What are the expected cumulative returns at 30 years for the 10th, 50th, and 90th percentiles?"
   ]
  },
  {
   "cell_type": "code",
   "execution_count": 29,
   "metadata": {},
   "outputs": [
    {
     "data": {
      "text/html": [
       "<div>\n",
       "<style scoped>\n",
       "    .dataframe tbody tr th:only-of-type {\n",
       "        vertical-align: middle;\n",
       "    }\n",
       "\n",
       "    .dataframe tbody tr th {\n",
       "        vertical-align: top;\n",
       "    }\n",
       "\n",
       "    .dataframe thead th {\n",
       "        text-align: right;\n",
       "    }\n",
       "</style>\n",
       "<table border=\"1\" class=\"dataframe\">\n",
       "  <thead>\n",
       "    <tr style=\"text-align: right;\">\n",
       "      <th></th>\n",
       "      <th>7560</th>\n",
       "    </tr>\n",
       "  </thead>\n",
       "  <tbody>\n",
       "    <tr>\n",
       "      <th>0.1</th>\n",
       "      <td>11.128638</td>\n",
       "    </tr>\n",
       "    <tr>\n",
       "      <th>0.5</th>\n",
       "      <td>43.781493</td>\n",
       "    </tr>\n",
       "    <tr>\n",
       "      <th>0.9</th>\n",
       "      <td>155.179169</td>\n",
       "    </tr>\n",
       "  </tbody>\n",
       "</table>\n",
       "</div>"
      ],
      "text/plain": [
       "           7560\n",
       "0.1   11.128638\n",
       "0.5   43.781493\n",
       "0.9  155.179169"
      ]
     },
     "metadata": {},
     "output_type": "display_data"
    },
    {
     "name": "stdout",
     "output_type": "stream",
     "text": [
      "Expected cumulative return at 30 years for the 10th percetile is 11.13\n",
      "Expected cumulative return at 30 years for the 50th percetile is 43.78\n",
      "Expected cumulative return at 30 years for the 90th percetile is 155.18\n"
     ]
    }
   ],
   "source": [
    "# YOUR CODE HERE\n",
    "confidence_intervals =ending_cumulative_returns.quantile(q = [0.1 ,0.5, 0.90]).to_frame()\n",
    "display(confidence_intervals)\n",
    "print(\"Expected cumulative return at 30 years for the 10th percetile is {:.2f}\".format(confidence_intervals.iloc[0,0]))\n",
    "print(\"Expected cumulative return at 30 years for the 50th percetile is {:.2f}\".format(confidence_intervals.iloc[1,0]))\n",
    "print(\"Expected cumulative return at 30 years for the 90th percetile is {:.2f}\".format(confidence_intervals.iloc[2,0]))"
   ]
  },
  {
   "cell_type": "markdown",
   "metadata": {},
   "source": [
    "### Given an initial investment of `$20,000`, what is the expected portfolio return in dollars at the 10th, 50th, and 90th percentiles?"
   ]
  },
  {
   "cell_type": "code",
   "execution_count": 30,
   "metadata": {},
   "outputs": [
    {
     "data": {
      "text/html": [
       "<div>\n",
       "<style scoped>\n",
       "    .dataframe tbody tr th:only-of-type {\n",
       "        vertical-align: middle;\n",
       "    }\n",
       "\n",
       "    .dataframe tbody tr th {\n",
       "        vertical-align: top;\n",
       "    }\n",
       "\n",
       "    .dataframe thead th {\n",
       "        text-align: right;\n",
       "    }\n",
       "</style>\n",
       "<table border=\"1\" class=\"dataframe\">\n",
       "  <thead>\n",
       "    <tr style=\"text-align: right;\">\n",
       "      <th></th>\n",
       "      <th>7560</th>\n",
       "    </tr>\n",
       "  </thead>\n",
       "  <tbody>\n",
       "    <tr>\n",
       "      <th>0.1</th>\n",
       "      <td>222572.76</td>\n",
       "    </tr>\n",
       "    <tr>\n",
       "      <th>0.5</th>\n",
       "      <td>875629.86</td>\n",
       "    </tr>\n",
       "    <tr>\n",
       "      <th>0.9</th>\n",
       "      <td>3103583.38</td>\n",
       "    </tr>\n",
       "  </tbody>\n",
       "</table>\n",
       "</div>"
      ],
      "text/plain": [
       "           7560\n",
       "0.1   222572.76\n",
       "0.5   875629.86\n",
       "0.9  3103583.38"
      ]
     },
     "metadata": {},
     "output_type": "display_data"
    },
    {
     "name": "stdout",
     "output_type": "stream",
     "text": [
      "Expected portfolio return at the 10th percentile is $222572.76\n",
      "Expected portfolio return at the 50th percentile is $875629.86\n",
      "Expected portfolio return at the 90th percentile is $3103583.38\n"
     ]
    }
   ],
   "source": [
    "# YOUR CODE HERE\n",
    "initial_investment = 20000\n",
    "expected_portfolio_return = round(initial_investment * confidence_intervals,2)\n",
    "display(expected_portfolio_return)\n",
    "print(f\"Expected portfolio return at the 10th percentile is ${expected_portfolio_return.iloc[0,0]}\")\n",
    "print(f\"Expected portfolio return at the 50th percentile is ${expected_portfolio_return.iloc[1,0]}\")\n",
    "print(f\"Expected portfolio return at the 90th percentile is ${expected_portfolio_return.iloc[2,0]}\")"
   ]
  },
  {
   "cell_type": "markdown",
   "metadata": {},
   "source": [
    "### Given the current projected annual income from the Plaid analysis, will a 4% withdraw rate from the retirement portfolio meet or exceed that value at the 10th percentile?\n",
    "\n",
    "Note: This is effectively saying that 90% of the expected returns will be greater than the return at the 10th percentile, so this can help measure the uncertainty about having enough funds at retirement"
   ]
  },
  {
   "cell_type": "code",
   "execution_count": 31,
   "metadata": {},
   "outputs": [
    {
     "name": "stdout",
     "output_type": "stream",
     "text": [
      "The current projected annual income from the Plaid analysis is $7389.0,\n",
      "The current projected retirement income is $8902.91\n",
      "The projected retirement income exceeds the projected annual income.\n"
     ]
    }
   ],
   "source": [
    "projected_annual_income = 7389.00\n",
    "retirement_income = round(.04 * expected_portfolio_return.iloc[0,0],2)\n",
    "print(f\"The current projected annual income from the Plaid analysis is ${projected_annual_income},\\n\"\n",
    "      f\"The current projected retirement income is ${retirement_income}\")\n",
    "\n",
    "if projected_annual_income == retirement_income:\n",
    "    print('The projected retirement income meets the projected annual income.')\n",
    "elif projected_annual_income <= retirement_income:\n",
    "    print('The projected retirement income exceeds the projected annual income.')\n",
    "else:\n",
    "    print('The projected retirement income is not sufficient.')"
   ]
  },
  {
   "cell_type": "markdown",
   "metadata": {},
   "source": [
    "### How would a 50% increase in the initial investment amount affect the 4% retirement withdrawal?"
   ]
  },
  {
   "cell_type": "code",
   "execution_count": 32,
   "metadata": {},
   "outputs": [
    {
     "name": "stdout",
     "output_type": "stream",
     "text": [
      "Expected portfolio returns\n"
     ]
    },
    {
     "data": {
      "text/html": [
       "<div>\n",
       "<style scoped>\n",
       "    .dataframe tbody tr th:only-of-type {\n",
       "        vertical-align: middle;\n",
       "    }\n",
       "\n",
       "    .dataframe tbody tr th {\n",
       "        vertical-align: top;\n",
       "    }\n",
       "\n",
       "    .dataframe thead th {\n",
       "        text-align: right;\n",
       "    }\n",
       "</style>\n",
       "<table border=\"1\" class=\"dataframe\">\n",
       "  <thead>\n",
       "    <tr style=\"text-align: right;\">\n",
       "      <th></th>\n",
       "      <th>7560</th>\n",
       "    </tr>\n",
       "  </thead>\n",
       "  <tbody>\n",
       "    <tr>\n",
       "      <th>0.1</th>\n",
       "      <td>333859.14</td>\n",
       "    </tr>\n",
       "    <tr>\n",
       "      <th>0.5</th>\n",
       "      <td>1313444.79</td>\n",
       "    </tr>\n",
       "    <tr>\n",
       "      <th>0.9</th>\n",
       "      <td>4655375.07</td>\n",
       "    </tr>\n",
       "  </tbody>\n",
       "</table>\n",
       "</div>"
      ],
      "text/plain": [
       "           7560\n",
       "0.1   333859.14\n",
       "0.5  1313444.79\n",
       "0.9  4655375.07"
      ]
     },
     "metadata": {},
     "output_type": "display_data"
    },
    {
     "name": "stdout",
     "output_type": "stream",
     "text": [
      "A 50% increase in initial investment amount increases the projected retirement income by $4451.46\n"
     ]
    }
   ],
   "source": [
    "initial_investment_increased = 1.5 * initial_investment\n",
    "expected_portfolio_return = round(initial_investment_increased * confidence_intervals,2)\n",
    "changed_retirement_income = .04 * expected_portfolio_return.iloc[0,0] - retirement_income\n",
    "print('Expected portfolio returns')\n",
    "display(expected_portfolio_return)\n",
    "print(f\"A 50% increase in initial investment amount increases the projected retirement income by ${round(changed_retirement_income,2)}\")"
   ]
  },
  {
   "cell_type": "markdown",
   "metadata": {},
   "source": [
    "### Optional Challenge\n",
    "\n",
    "In this section, you will calculate and plot the cumulative returns for the median and 90% confidence intervals. This plot shows the expected cumulative returns for any given day between the first day and the last day of investment. "
   ]
  },
  {
   "cell_type": "code",
   "execution_count": 33,
   "metadata": {},
   "outputs": [
    {
     "data": {
      "text/html": [
       "<div>\n",
       "<style scoped>\n",
       "    .dataframe tbody tr th:only-of-type {\n",
       "        vertical-align: middle;\n",
       "    }\n",
       "\n",
       "    .dataframe tbody tr th {\n",
       "        vertical-align: top;\n",
       "    }\n",
       "\n",
       "    .dataframe thead th {\n",
       "        text-align: right;\n",
       "    }\n",
       "</style>\n",
       "<table border=\"1\" class=\"dataframe\">\n",
       "  <thead>\n",
       "    <tr style=\"text-align: right;\">\n",
       "      <th></th>\n",
       "      <th>0.05</th>\n",
       "      <th>0.50</th>\n",
       "      <th>0.95</th>\n",
       "    </tr>\n",
       "  </thead>\n",
       "  <tbody>\n",
       "    <tr>\n",
       "      <th>1</th>\n",
       "      <td>0.980088</td>\n",
       "      <td>1.001347</td>\n",
       "      <td>1.022250</td>\n",
       "    </tr>\n",
       "    <tr>\n",
       "      <th>2</th>\n",
       "      <td>0.971225</td>\n",
       "      <td>1.001765</td>\n",
       "      <td>1.032151</td>\n",
       "    </tr>\n",
       "    <tr>\n",
       "      <th>3</th>\n",
       "      <td>0.969389</td>\n",
       "      <td>1.003536</td>\n",
       "      <td>1.037181</td>\n",
       "    </tr>\n",
       "    <tr>\n",
       "      <th>4</th>\n",
       "      <td>0.963121</td>\n",
       "      <td>1.004461</td>\n",
       "      <td>1.042440</td>\n",
       "    </tr>\n",
       "    <tr>\n",
       "      <th>5</th>\n",
       "      <td>0.961372</td>\n",
       "      <td>1.003089</td>\n",
       "      <td>1.049449</td>\n",
       "    </tr>\n",
       "  </tbody>\n",
       "</table>\n",
       "</div>"
      ],
      "text/plain": [
       "       0.05      0.50      0.95\n",
       "1  0.980088  1.001347  1.022250\n",
       "2  0.971225  1.001765  1.032151\n",
       "3  0.969389  1.003536  1.037181\n",
       "4  0.963121  1.004461  1.042440\n",
       "5  0.961372  1.003089  1.049449"
      ]
     },
     "execution_count": 33,
     "metadata": {},
     "output_type": "execute_result"
    }
   ],
   "source": [
    "projected_returns = portfolio_cumulative_returns.quantile([0.05,0.50, 0.95], axis = 1).T\n",
    "projected_returns.head()"
   ]
  },
  {
   "cell_type": "code",
   "execution_count": 34,
   "metadata": {},
   "outputs": [
    {
     "data": {
      "text/plain": [
       "<matplotlib.axes._subplots.AxesSubplot at 0x1f4606d2888>"
      ]
     },
     "execution_count": 34,
     "metadata": {},
     "output_type": "execute_result"
    },
    {
     "data": {
      "image/png": "[encoded data removed]",
      "text/plain": [
       "<Figure size 432x288 with 1 Axes>"
      ]
     },
     "metadata": {
      "needs_background": "light"
     },
     "output_type": "display_data"
    }
   ],
   "source": [
    "projected_returns.plot(title=\"Cumulative Returns over Time (in days)\")"
   ]
  }
 ],
 "metadata": {
  "kernel_info": {
   "name": "dev"
  },
  "kernelspec": {
   "display_name": "Python 3",
   "language": "python",
   "name": "python3"
  },
  "language_info": {
   "codemirror_mode": {
    "name": "ipython",
    "version": 3
   },
   "file_extension": ".py",
   "mimetype": "text/x-python",
   "name": "python",
   "nbconvert_exporter": "python",
   "pygments_lexer": "ipython3",
   "version": "3.7.4"
  },
  "nteract": {
   "version": "0.12.3"
  }
 },
 "nbformat": 4,
 "nbformat_minor": 4
}
